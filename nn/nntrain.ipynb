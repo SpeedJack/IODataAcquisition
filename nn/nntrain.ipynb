{
  "nbformat": 4,
  "nbformat_minor": 0,
  "metadata": {
    "colab": {
      "name": "nntrain0.5.ipynb",
      "provenance": []
    },
    "kernelspec": {
      "name": "python3",
      "display_name": "Python 3"
    },
    "language_info": {
      "name": "python"
    }
  },
  "cells": [
    {
      "cell_type": "code",
      "metadata": {
        "id": "LlVWssRmIpG4"
      },
      "source": [
        "import pandas as pd\n",
        "\n",
        "inputFile = 'preprocessed_data_train.csv'\n",
        "metaFile = 'meta_train.csv'\n",
        "df = pd.read_csv(inputFile)\n",
        "\n",
        "# Drop the indexes column\n",
        "del df['FileName']\n",
        "del df['timestamp']\n",
        "\n",
        "# Extract the column INDOOR that represent the target of the neural network\n",
        "target = df.loc[:,'INDOOR'].to_numpy()\n",
        "del df['INDOOR']\n",
        "\n",
        "df_meta = pd.read_csv(metaFile)"
      ],
      "execution_count": 3,
      "outputs": []
    },
    {
      "cell_type": "code",
      "metadata": {
        "colab": {
          "base_uri": "https://localhost:8080/"
        },
        "id": "fKyesLP6I6FQ",
        "outputId": "10b59a0b-7072-45ae-be78-9854d87a1007"
      },
      "source": [
        "import tensorflow as tf\n",
        "from sklearn.model_selection import train_test_split\n",
        "\n",
        "# Split the whole train dataset into a test and train set \n",
        "X_train, X_test, y_train, y_test = train_test_split(df.to_numpy(), target, test_size=0.33) \n",
        "print(X_train.shape,X_test.shape,y_train.shape,y_test.shape)"
      ],
      "execution_count": 4,
      "outputs": [
        {
          "output_type": "stream",
          "text": [
            "(96217, 21) (47391, 21) (96217,) (47391,)\n"
          ],
          "name": "stdout"
        }
      ]
    },
    {
      "cell_type": "code",
      "metadata": {
        "colab": {
          "base_uri": "https://localhost:8080/"
        },
        "id": "bnBMSDAxQ1z3",
        "outputId": "c1d58130-e27e-43f8-e87a-b5e3a65aeca6"
      },
      "source": [
        "# Number of features present into the vector\n",
        "D = X_train.shape[1]\n",
        "D"
      ],
      "execution_count": 5,
      "outputs": [
        {
          "output_type": "execute_result",
          "data": {
            "text/plain": [
              "21"
            ]
          },
          "metadata": {
            "tags": []
          },
          "execution_count": 5
        }
      ]
    },
    {
      "cell_type": "code",
      "metadata": {
        "colab": {
          "base_uri": "https://localhost:8080/"
        },
        "id": "zJIDbY1cJHR6",
        "outputId": "4cf2edf3-5df1-471f-e93e-fa55e02b57be"
      },
      "source": [
        "# Create the model of the Neural Network with the following layers:\n",
        "i = tf.keras.layers.Input(shape=(D,),name='Input')\n",
        "x = tf.keras.layers.Dense(32,activation='sigmoid', name='Hidden')(i)\n",
        "x = tf.keras.layers.Dropout(0.8)(x)\n",
        "x = tf.keras.layers.Dense(1, activation='sigmoid', name='Classifier')(x)\n",
        "model = tf.keras.models.Model(i, x)\n",
        "\n",
        "model.summary()\n",
        "tf.keras.utils.plot_model(model,show_shapes=True,show_dtype=True, show_layer_names=True, expand_nested=True)\n",
        "\n",
        "learning_rate = 0.01\n",
        "batch_size = 16\n",
        "\n",
        "optimizer = tf.keras.optimizers.Adam(learning_rate=learning_rate)\n",
        "\n",
        "model.compile(\n",
        "    optimizer=optimizer,\n",
        "    loss=\"binary_crossentropy\",\n",
        "    metrics=['accuracy'],\n",
        "  )\n",
        "\n",
        "# Train the model\n",
        "r = model.fit(X_train, y_train, validation_data = (X_test, y_test) ,batch_size=batch_size, epochs=25)"
      ],
      "execution_count": 6,
      "outputs": [
        {
          "output_type": "stream",
          "text": [
            "Model: \"model\"\n",
            "_________________________________________________________________\n",
            "Layer (type)                 Output Shape              Param #   \n",
            "=================================================================\n",
            "Input (InputLayer)           [(None, 21)]              0         \n",
            "_________________________________________________________________\n",
            "Hidden (Dense)               (None, 32)                704       \n",
            "_________________________________________________________________\n",
            "dropout (Dropout)            (None, 32)                0         \n",
            "_________________________________________________________________\n",
            "Classifier (Dense)           (None, 1)                 33        \n",
            "=================================================================\n",
            "Total params: 737\n",
            "Trainable params: 737\n",
            "Non-trainable params: 0\n",
            "_________________________________________________________________\n",
            "Epoch 1/25\n",
            "6014/6014 [==============================] - 7s 1ms/step - loss: 0.4147 - accuracy: 0.8115 - val_loss: 0.1954 - val_accuracy: 0.9262\n",
            "Epoch 2/25\n",
            "6014/6014 [==============================] - 6s 1ms/step - loss: 0.2887 - accuracy: 0.8835 - val_loss: 0.1729 - val_accuracy: 0.9383\n",
            "Epoch 3/25\n",
            "6014/6014 [==============================] - 6s 1ms/step - loss: 0.2722 - accuracy: 0.8898 - val_loss: 0.1654 - val_accuracy: 0.9393\n",
            "Epoch 4/25\n",
            "6014/6014 [==============================] - 6s 1ms/step - loss: 0.2639 - accuracy: 0.8936 - val_loss: 0.1596 - val_accuracy: 0.9441\n",
            "Epoch 5/25\n",
            "6014/6014 [==============================] - 6s 1ms/step - loss: 0.2531 - accuracy: 0.8996 - val_loss: 0.1573 - val_accuracy: 0.9422\n",
            "Epoch 6/25\n",
            "6014/6014 [==============================] - 6s 1ms/step - loss: 0.2514 - accuracy: 0.9013 - val_loss: 0.1546 - val_accuracy: 0.9459\n",
            "Epoch 7/25\n",
            "6014/6014 [==============================] - 6s 1ms/step - loss: 0.2536 - accuracy: 0.9010 - val_loss: 0.1479 - val_accuracy: 0.9464\n",
            "Epoch 8/25\n",
            "6014/6014 [==============================] - 6s 1ms/step - loss: 0.2459 - accuracy: 0.9023 - val_loss: 0.1457 - val_accuracy: 0.9453\n",
            "Epoch 9/25\n",
            "6014/6014 [==============================] - 6s 1ms/step - loss: 0.2430 - accuracy: 0.9033 - val_loss: 0.1439 - val_accuracy: 0.9472\n",
            "Epoch 10/25\n",
            "6014/6014 [==============================] - 7s 1ms/step - loss: 0.2462 - accuracy: 0.9047 - val_loss: 0.1454 - val_accuracy: 0.9454\n",
            "Epoch 11/25\n",
            "6014/6014 [==============================] - 7s 1ms/step - loss: 0.2470 - accuracy: 0.9034 - val_loss: 0.1419 - val_accuracy: 0.9476\n",
            "Epoch 12/25\n",
            "6014/6014 [==============================] - 6s 1ms/step - loss: 0.2451 - accuracy: 0.9012 - val_loss: 0.1462 - val_accuracy: 0.9463\n",
            "Epoch 13/25\n",
            "6014/6014 [==============================] - 6s 1ms/step - loss: 0.2435 - accuracy: 0.9054 - val_loss: 0.1422 - val_accuracy: 0.9463\n",
            "Epoch 14/25\n",
            "6014/6014 [==============================] - 8s 1ms/step - loss: 0.2398 - accuracy: 0.9051 - val_loss: 0.1422 - val_accuracy: 0.9467\n",
            "Epoch 15/25\n",
            "6014/6014 [==============================] - 7s 1ms/step - loss: 0.2425 - accuracy: 0.9054 - val_loss: 0.1460 - val_accuracy: 0.9529\n",
            "Epoch 16/25\n",
            "6014/6014 [==============================] - 7s 1ms/step - loss: 0.2441 - accuracy: 0.9045 - val_loss: 0.1416 - val_accuracy: 0.9464\n",
            "Epoch 17/25\n",
            "6014/6014 [==============================] - 6s 1ms/step - loss: 0.2390 - accuracy: 0.9036 - val_loss: 0.1401 - val_accuracy: 0.9484\n",
            "Epoch 18/25\n",
            "6014/6014 [==============================] - 6s 1ms/step - loss: 0.2376 - accuracy: 0.9063 - val_loss: 0.1398 - val_accuracy: 0.9472\n",
            "Epoch 19/25\n",
            "6014/6014 [==============================] - 6s 1ms/step - loss: 0.2361 - accuracy: 0.9076 - val_loss: 0.1424 - val_accuracy: 0.9505\n",
            "Epoch 20/25\n",
            "6014/6014 [==============================] - 6s 1ms/step - loss: 0.2345 - accuracy: 0.9074 - val_loss: 0.1410 - val_accuracy: 0.9494\n",
            "Epoch 21/25\n",
            "6014/6014 [==============================] - 6s 1ms/step - loss: 0.2353 - accuracy: 0.9087 - val_loss: 0.1367 - val_accuracy: 0.9475\n",
            "Epoch 22/25\n",
            "6014/6014 [==============================] - 6s 1ms/step - loss: 0.2348 - accuracy: 0.9087 - val_loss: 0.1407 - val_accuracy: 0.9458\n",
            "Epoch 23/25\n",
            "6014/6014 [==============================] - 6s 1ms/step - loss: 0.2317 - accuracy: 0.9084 - val_loss: 0.1372 - val_accuracy: 0.9494\n",
            "Epoch 24/25\n",
            "6014/6014 [==============================] - 6s 1ms/step - loss: 0.2344 - accuracy: 0.9091 - val_loss: 0.1406 - val_accuracy: 0.9468\n",
            "Epoch 25/25\n",
            "6014/6014 [==============================] - 7s 1ms/step - loss: 0.2329 - accuracy: 0.9096 - val_loss: 0.1392 - val_accuracy: 0.9498\n"
          ],
          "name": "stdout"
        }
      ]
    },
    {
      "cell_type": "code",
      "metadata": {
        "colab": {
          "base_uri": "https://localhost:8080/",
          "height": 283
        },
        "id": "DaKr7wCYUIDT",
        "outputId": "7573b55b-65e9-4484-8085-4624a4d0a6e7"
      },
      "source": [
        "import matplotlib.pyplot as plt\n",
        "\n",
        "plt.plot(r.history['loss'], label='loss')\n",
        "plt.plot(r.history['val_loss'], label='val_loss')\n",
        "plt.legend()"
      ],
      "execution_count": 7,
      "outputs": [
        {
          "output_type": "execute_result",
          "data": {
            "text/plain": [
              "<matplotlib.legend.Legend at 0x7f5b388373d0>"
            ]
          },
          "metadata": {
            "tags": []
          },
          "execution_count": 7
        },
        {
          "output_type": "display_data",
          "data": {
            "image/png": "[encoded data removed]",
            "text/plain": [
              "<Figure size 432x288 with 1 Axes>"
            ]
          },
          "metadata": {
            "tags": [],
            "needs_background": "light"
          }
        }
      ]
    },
    {
      "cell_type": "code",
      "metadata": {
        "colab": {
          "base_uri": "https://localhost:8080/",
          "height": 283
        },
        "id": "9OoWpkkzUSYO",
        "outputId": "61c05742-3192-4163-9f12-d9f0bbd2ec64"
      },
      "source": [
        "# Plot the accuracy too\n",
        "plt.plot(r.history['accuracy'], label='acc')\n",
        "plt.plot(r.history['val_accuracy'], label='val_acc')\n",
        "plt.legend()"
      ],
      "execution_count": 8,
      "outputs": [
        {
          "output_type": "execute_result",
          "data": {
            "text/plain": [
              "<matplotlib.legend.Legend at 0x7f5b35a29e90>"
            ]
          },
          "metadata": {
            "tags": []
          },
          "execution_count": 8
        },
        {
          "output_type": "display_data",
          "data": {
            "image/png": "[encoded data removed]",
            "text/plain": [
              "<Figure size 432x288 with 1 Axes>"
            ]
          },
          "metadata": {
            "tags": [],
            "needs_background": "light"
          }
        }
      ]
    },
    {
      "cell_type": "code",
      "metadata": {
        "colab": {
          "base_uri": "https://localhost:8080/"
        },
        "id": "dbvyP5LHJNvf",
        "outputId": "95e4d323-659a-4a1c-f893-ad931fd5b730"
      },
      "source": [
        "model.save('IODetector_32_5_tfmodel')"
      ],
      "execution_count": 9,
      "outputs": [
        {
          "output_type": "stream",
          "text": [
            "INFO:tensorflow:Assets written to: IODetector_32_5_tfmodel/assets\n"
          ],
          "name": "stdout"
        }
      ]
    },
    {
      "cell_type": "code",
      "metadata": {
        "colab": {
          "base_uri": "https://localhost:8080/"
        },
        "id": "yUIT5e-VUc7-",
        "outputId": "aba8c899-0c9e-4e52-e466-355861cb28fb"
      },
      "source": [
        "!zip -r IODetector_32_5_tfmodel.zip IODetector_32_5_tfmodel"
      ],
      "execution_count": 10,
      "outputs": [
        {
          "output_type": "stream",
          "text": [
            "  adding: IODetector_32_5_tfmodel/ (stored 0%)\n",
            "  adding: IODetector_32_5_tfmodel/variables/ (stored 0%)\n",
            "  adding: IODetector_32_5_tfmodel/variables/variables.index (deflated 60%)\n",
            "  adding: IODetector_32_5_tfmodel/variables/variables.data-00000-of-00001 (deflated 27%)\n",
            "  adding: IODetector_32_5_tfmodel/saved_model.pb (deflated 87%)\n",
            "  adding: IODetector_32_5_tfmodel/assets/ (stored 0%)\n"
          ],
          "name": "stdout"
        }
      ]
    },
    {
      "cell_type": "markdown",
      "metadata": {
        "id": "73iDrRwKOvnu"
      },
      "source": [
        "# Adding to the model the metadata and exporting them into tflite format"
      ]
    },
    {
      "cell_type": "code",
      "metadata": {
        "colab": {
          "base_uri": "https://localhost:8080/"
        },
        "id": "gdDenXKzODRO",
        "outputId": "3b77e099-9263-4d38-cfd2-7ecd9cc2c5a2"
      },
      "source": [
        "!pip install tflite_support"
      ],
      "execution_count": 11,
      "outputs": [
        {
          "output_type": "stream",
          "text": [
            "Collecting tflite_support\n",
            "\u001b[?25l  Downloading https://files.pythonhosted.org/packages/90/3b/5e0d9cd967aaa564e3c24b86ef2eda0df40b1500949282d952e8e59a0063/tflite_support-0.2.0-cp37-cp37m-manylinux_2_12_x86_64.manylinux2010_x86_64.whl (1.1MB)\n",
            "\u001b[K     |████████████████████████████████| 1.1MB 12.7MB/s \n",
            "\u001b[?25hCollecting pybind11>=2.6.0\n",
            "\u001b[?25l  Downloading https://files.pythonhosted.org/packages/8d/43/7339dbabbc2793718d59703aace4166f53c29ee1c202f6ff5bf8a26c4d91/pybind11-2.6.2-py2.py3-none-any.whl (191kB)\n",
            "\u001b[K     |████████████████████████████████| 194kB 49.1MB/s \n",
            "\u001b[?25hRequirement already satisfied: numpy>=1.16.0 in /usr/local/lib/python3.7/dist-packages (from tflite_support) (1.19.5)\n",
            "Requirement already satisfied: flatbuffers<2,>=1.12 in /usr/local/lib/python3.7/dist-packages (from tflite_support) (1.12)\n",
            "Requirement already satisfied: absl-py>=0.7.0 in /usr/local/lib/python3.7/dist-packages (from tflite_support) (0.12.0)\n",
            "Requirement already satisfied: six in /usr/local/lib/python3.7/dist-packages (from absl-py>=0.7.0->tflite_support) (1.15.0)\n",
            "Installing collected packages: pybind11, tflite-support\n",
            "Successfully installed pybind11-2.6.2 tflite-support-0.2.0\n"
          ],
          "name": "stdout"
        }
      ]
    },
    {
      "cell_type": "code",
      "metadata": {
        "id": "Qx0HJzQxOEJR"
      },
      "source": [
        "from tflite_support import flatbuffers\n",
        "from tflite_support import metadata as _metadata\n",
        "from tflite_support import metadata_schema_py_generated as _metadata_fb"
      ],
      "execution_count": 12,
      "outputs": []
    },
    {
      "cell_type": "code",
      "metadata": {
        "id": "FVouH028OKo_"
      },
      "source": [
        "# Creates model info.\n",
        "model_meta = _metadata_fb.ModelMetadataT()\n",
        "model_meta.name = \"IODetector model\"\n",
        "model_meta.description = \"Detect if the user is indoor or outdoor.\"\n",
        "model_meta.version = \"v1\"\n",
        "model_meta.author = \"Dario Lorenzoni, Niccolò Scatena\"\n",
        "model_meta.license = \"MIT LICENSE\""
      ],
      "execution_count": 13,
      "outputs": []
    },
    {
      "cell_type": "code",
      "metadata": {
        "id": "D47rjqyVOLft"
      },
      "source": [
        "input_meta = _metadata_fb.TensorMetadataT()\n",
        "input_meta.name = \"feature_vector\"\n",
        "input_meta.description = \"IODetection input vector\"\n",
        "input_meta.content = _metadata_fb.ContentT()\n",
        "input_meta.content.content_properties = _metadata_fb.FeaturePropertiesT()\n",
        "input_meta.content.contentPropertiesType = (_metadata_fb.ContentProperties.FeatureProperties)\n",
        "input_normalization = _metadata_fb.ProcessUnitT()\n",
        "input_normalization.optionsType = (_metadata_fb.ProcessUnitOptions.NormalizationOptions)\n",
        "input_normalization.options = _metadata_fb.NormalizationOptionsT()\n",
        "input_normalization.options.mean = df_meta.iloc[1, 1:].values.tolist()\n",
        "input_normalization.options.std = df_meta.iloc[2, 1:].values.tolist()\n",
        "input_meta.processUnits = [input_normalization]\n",
        "input_stats = _metadata_fb.StatsT()\n",
        "input_stats.min = df_meta.iloc[3, 1:].values.tolist()\n",
        "input_stats.max = df_meta.iloc[7, 1:].values.tolist()\n",
        "input_meta.stats = input_stats"
      ],
      "execution_count": 14,
      "outputs": []
    },
    {
      "cell_type": "code",
      "metadata": {
        "id": "hQIv7D1aOeMq"
      },
      "source": [
        "output_meta = _metadata_fb.TensorMetadataT()\n",
        "output_meta.name = \"IODetection\"\n",
        "output_meta.description = \"Indoor/Outdoor label.\"\n",
        "output_meta.content = _metadata_fb.ContentT()\n",
        "output_meta.content.content_properties = _metadata_fb.FeaturePropertiesT()\n",
        "output_meta.content.contentPropertiesType = (_metadata_fb.ContentProperties.FeatureProperties)\n",
        "output_stats = _metadata_fb.StatsT()\n",
        "output_stats.min = [0.0]\n",
        "output_stats.max = [1.0]\n",
        "output_meta.stats = output_stats"
      ],
      "execution_count": 15,
      "outputs": []
    },
    {
      "cell_type": "code",
      "metadata": {
        "id": "hcE2aHE8Ofts"
      },
      "source": [
        "# Creates subgraph info.\n",
        "subgraph = _metadata_fb.SubGraphMetadataT()\n",
        "subgraph.inputTensorMetadata = [input_meta]\n",
        "subgraph.outputTensorMetadata = [output_meta]\n",
        "model_meta.subgraphMetadata = [subgraph]\n",
        "\n",
        "b = flatbuffers.Builder(0)\n",
        "b.Finish(\n",
        "    model_meta.Pack(b),\n",
        "    _metadata.MetadataPopulator.METADATA_FILE_IDENTIFIER)\n",
        "metadata_buf = b.Output()"
      ],
      "execution_count": 16,
      "outputs": []
    },
    {
      "cell_type": "code",
      "metadata": {
        "colab": {
          "base_uri": "https://localhost:8080/"
        },
        "id": "OtCR3J8BOi49",
        "outputId": "6d63a82f-0f14-46b7-bdb7-09575b341258"
      },
      "source": [
        "converter = tf.lite.TFLiteConverter.from_keras_model(model)\n",
        "tflite_model = converter.convert()\n",
        "\n",
        "# Save the model.\n",
        "with open('IODetectorModel.tflite', 'wb') as f:\n",
        "  f.write(tflite_model)"
      ],
      "execution_count": 17,
      "outputs": [
        {
          "output_type": "stream",
          "text": [
            "INFO:tensorflow:Assets written to: /tmp/tmp4jby9wjt/assets\n"
          ],
          "name": "stdout"
        }
      ]
    },
    {
      "cell_type": "code",
      "metadata": {
        "id": "XZ7VwMIFOsDP"
      },
      "source": [
        "populator = _metadata.MetadataPopulator.with_model_file('IODetectorModel.tflite')\n",
        "populator.load_metadata_buffer(metadata_buf)\n",
        "populator.populate()"
      ],
      "execution_count": 18,
      "outputs": []
    },
    {
      "cell_type": "code",
      "metadata": {
        "id": "1mIAtS1tPSjh"
      },
      "source": [
        "displayer = _metadata.MetadataDisplayer.with_model_file('IODetectorModel.tflite')\n",
        "export_json_file = \"meta.json\"\n",
        "json_file = displayer.get_metadata_json()\n",
        "with open(export_json_file, \"w\") as f:\n",
        "  f.write(json_file)"
      ],
      "execution_count": 19,
      "outputs": []
    },
    {
      "cell_type": "code",
      "metadata": {
        "colab": {
          "base_uri": "https://localhost:8080/"
        },
        "id": "gx55pUKWPU7m",
        "outputId": "ff057e86-a88e-47e7-a3fb-2827e23db67c"
      },
      "source": [
        "!tflite_codegen --model=./IODetectorModel.tflite \\\n",
        "    --package_name=it.unipi.dii.iodetectionlib.ml.generated \\\n",
        "    --model_class_name=IODetectorModel \\\n",
        "    --destination=./classify_wrapper\n",
        "\n",
        "!zip -r classify_wrapper.zip classify_wrapper/"
      ],
      "execution_count": 20,
      "outputs": [
        {
          "output_type": "stream",
          "text": [
            "I0522 08:42:37.917580 140281917171584 codegen.py:88] Generation succeeded!\n",
            "I0522 08:42:37.917866 140281917171584 codegen.py:93] Model copied into assets!\n",
            "  adding: classify_wrapper/ (stored 0%)\n",
            "  adding: classify_wrapper/iodetectormodel.md (deflated 49%)\n",
            "  adding: classify_wrapper/build.gradle (deflated 60%)\n",
            "  adding: classify_wrapper/src/ (stored 0%)\n",
            "  adding: classify_wrapper/src/main/ (stored 0%)\n",
            "  adding: classify_wrapper/src/main/AndroidManifest.xml (deflated 24%)\n",
            "  adding: classify_wrapper/src/main/java/ (stored 0%)\n",
            "  adding: classify_wrapper/src/main/java/it/ (stored 0%)\n",
            "  adding: classify_wrapper/src/main/java/it/unipi/ (stored 0%)\n",
            "  adding: classify_wrapper/src/main/java/it/unipi/dii/ (stored 0%)\n",
            "  adding: classify_wrapper/src/main/java/it/unipi/dii/iodetectionlib/ (stored 0%)\n",
            "  adding: classify_wrapper/src/main/java/it/unipi/dii/iodetectionlib/ml/ (stored 0%)\n",
            "  adding: classify_wrapper/src/main/java/it/unipi/dii/iodetectionlib/ml/generated/ (stored 0%)\n",
            "  adding: classify_wrapper/src/main/java/it/unipi/dii/iodetectionlib/ml/generated/IODetectorModel.java (deflated 79%)\n",
            "  adding: classify_wrapper/src/main/assets/ (stored 0%)\n",
            "  adding: classify_wrapper/src/main/assets/IODetectorModel.tflite (deflated 26%)\n"
          ],
          "name": "stdout"
        }
      ]
    }
  ]
}