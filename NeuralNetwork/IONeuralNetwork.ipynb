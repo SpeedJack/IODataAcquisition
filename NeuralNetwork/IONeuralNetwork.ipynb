{
 "cells": [
  {
   "cell_type": "code",
   "execution_count": 38,
   "metadata": {
    "id": "f7L5rGCIs3sc"
   },
   "outputs": [
    {
     "data": {
      "text/html": [
       "<style>div.output_scroll { height: auto; max-height: 48em; }</style>"
      ],
      "text/plain": [
       "<IPython.core.display.HTML object>"
      ]
     },
     "metadata": {},
     "output_type": "display_data"
    }
   ],
   "source": [
    "import os\n",
    "import math\n",
    "import pandas as pd\n",
    "import numpy as np\n",
    "import matplotlib.pyplot as plt\n",
    "from itertools import product, chain, combinations\n",
    "from scipy import stats\n",
    "from IPython.display import display, HTML\n",
    "%matplotlib inline\n",
    "\n",
    "pd.set_option('display.max_rows',70)\n",
    "display(HTML(\"<style>div.output_scroll { height: auto; max-height: 48em; }</style>\"))\n",
    "\n",
    "def parse_if_number(s):\n",
    "    try: return float(s)\n",
    "    except: return True if s==\"true\" else False if s==\"false\" else s if s else None\n",
    "\n",
    "def parse_ndarray(s):\n",
    "    return np.fromstring(s, sep=' ') if s else None\n",
    "\n",
    "def get_file_name(name):\n",
    "    return name.replace(':', '-')"
   ]
  },
  {
   "cell_type": "code",
   "execution_count": 39,
   "metadata": {
    "id": "AqjESA2vvfVX"
   },
   "outputs": [],
   "source": [
    "inputFile = 'collected-data.csv'"
   ]
  },
  {
   "cell_type": "code",
   "execution_count": 40,
   "metadata": {
    "colab": {
     "base_uri": "https://localhost:8080/",
     "height": 528
    },
    "id": "LY4PBKuhviNX",
    "outputId": "11cfdcb0-2348-49b6-ea54-08180a796111"
   },
   "outputs": [
    {
     "data": {
      "text/html": [
       "<div>\n",
       "<style scoped>\n",
       "    .dataframe tbody tr th:only-of-type {\n",
       "        vertical-align: middle;\n",
       "    }\n",
       "\n",
       "    .dataframe tbody tr th {\n",
       "        vertical-align: top;\n",
       "    }\n",
       "\n",
       "    .dataframe thead th {\n",
       "        text-align: right;\n",
       "    }\n",
       "</style>\n",
       "<table border=\"1\" class=\"dataframe\">\n",
       "  <thead>\n",
       "    <tr style=\"text-align: right;\">\n",
       "      <th></th>\n",
       "      <th>timestamp</th>\n",
       "      <th>sensor_type</th>\n",
       "      <th>sensor_name</th>\n",
       "      <th>value</th>\n",
       "      <th>accuracy</th>\n",
       "    </tr>\n",
       "  </thead>\n",
       "  <tbody>\n",
       "    <tr>\n",
       "      <th>0</th>\n",
       "      <td>1620723880333</td>\n",
       "      <td>-1</td>\n",
       "      <td>INDOOR</td>\n",
       "      <td>1.0</td>\n",
       "      <td>NaN</td>\n",
       "    </tr>\n",
       "    <tr>\n",
       "      <th>1</th>\n",
       "      <td>1620723880364</td>\n",
       "      <td>-1</td>\n",
       "      <td>MONITORING</td>\n",
       "      <td>1.0</td>\n",
       "      <td>NaN</td>\n",
       "    </tr>\n",
       "    <tr>\n",
       "      <th>2</th>\n",
       "      <td>1620723873432</td>\n",
       "      <td>5</td>\n",
       "      <td>TMD3725_Light Ambient Light Sensor Non-wakeup</td>\n",
       "      <td>15.0</td>\n",
       "      <td>3.0</td>\n",
       "    </tr>\n",
       "    <tr>\n",
       "      <th>3</th>\n",
       "      <td>1620723873265</td>\n",
       "      <td>8</td>\n",
       "      <td>TMD3725_Proximity Proximity Sensor Wakeup</td>\n",
       "      <td>5.0</td>\n",
       "      <td>3.0</td>\n",
       "    </tr>\n",
       "    <tr>\n",
       "      <th>4</th>\n",
       "      <td>1620723882262</td>\n",
       "      <td>-1</td>\n",
       "      <td>GPS_SATELLITES</td>\n",
       "      <td>17.0</td>\n",
       "      <td>NaN</td>\n",
       "    </tr>\n",
       "    <tr>\n",
       "      <th>...</th>\n",
       "      <td>...</td>\n",
       "      <td>...</td>\n",
       "      <td>...</td>\n",
       "      <td>...</td>\n",
       "      <td>...</td>\n",
       "    </tr>\n",
       "    <tr>\n",
       "      <th>2403</th>\n",
       "      <td>1620733476294</td>\n",
       "      <td>5</td>\n",
       "      <td>TMD3725_Light Ambient Light Sensor Non-wakeup</td>\n",
       "      <td>8.0</td>\n",
       "      <td>3.0</td>\n",
       "    </tr>\n",
       "    <tr>\n",
       "      <th>2404</th>\n",
       "      <td>1620733477129</td>\n",
       "      <td>8</td>\n",
       "      <td>TMD3725_Proximity Proximity Sensor Wakeup</td>\n",
       "      <td>5.0</td>\n",
       "      <td>3.0</td>\n",
       "    </tr>\n",
       "    <tr>\n",
       "      <th>2405</th>\n",
       "      <td>1620733477434</td>\n",
       "      <td>5</td>\n",
       "      <td>TMD3725_Light Ambient Light Sensor Non-wakeup</td>\n",
       "      <td>2.0</td>\n",
       "      <td>3.0</td>\n",
       "    </tr>\n",
       "    <tr>\n",
       "      <th>2406</th>\n",
       "      <td>1620733480731</td>\n",
       "      <td>5</td>\n",
       "      <td>TMD3725_Light Ambient Light Sensor Non-wakeup</td>\n",
       "      <td>2.0</td>\n",
       "      <td>3.0</td>\n",
       "    </tr>\n",
       "    <tr>\n",
       "      <th>2407</th>\n",
       "      <td>1620733488783</td>\n",
       "      <td>-1</td>\n",
       "      <td>MONITORING</td>\n",
       "      <td>0.0</td>\n",
       "      <td>NaN</td>\n",
       "    </tr>\n",
       "  </tbody>\n",
       "</table>\n",
       "<p>2408 rows × 5 columns</p>\n",
       "</div>"
      ],
      "text/plain": [
       "          timestamp  sensor_type  \\\n",
       "0     1620723880333           -1   \n",
       "1     1620723880364           -1   \n",
       "2     1620723873432            5   \n",
       "3     1620723873265            8   \n",
       "4     1620723882262           -1   \n",
       "...             ...          ...   \n",
       "2403  1620733476294            5   \n",
       "2404  1620733477129            8   \n",
       "2405  1620733477434            5   \n",
       "2406  1620733480731            5   \n",
       "2407  1620733488783           -1   \n",
       "\n",
       "                                        sensor_name  value  accuracy  \n",
       "0                                            INDOOR    1.0       NaN  \n",
       "1                                        MONITORING    1.0       NaN  \n",
       "2     TMD3725_Light Ambient Light Sensor Non-wakeup   15.0       3.0  \n",
       "3         TMD3725_Proximity Proximity Sensor Wakeup    5.0       3.0  \n",
       "4                                    GPS_SATELLITES   17.0       NaN  \n",
       "...                                             ...    ...       ...  \n",
       "2403  TMD3725_Light Ambient Light Sensor Non-wakeup    8.0       3.0  \n",
       "2404      TMD3725_Proximity Proximity Sensor Wakeup    5.0       3.0  \n",
       "2405  TMD3725_Light Ambient Light Sensor Non-wakeup    2.0       3.0  \n",
       "2406  TMD3725_Light Ambient Light Sensor Non-wakeup    2.0       3.0  \n",
       "2407                                     MONITORING    0.0       NaN  \n",
       "\n",
       "[2408 rows x 5 columns]"
      ]
     },
     "execution_count": 40,
     "metadata": {},
     "output_type": "execute_result"
    }
   ],
   "source": [
    "df = pd.read_csv(inputFile)\n",
    "df"
   ]
  },
  {
   "cell_type": "code",
   "execution_count": 43,
   "metadata": {},
   "outputs": [],
   "source": [
    "sensor_type_dict = {\n",
    "    'MONITORING':-1,\n",
    "    'INDOOR':-2,\n",
    "    'GPS_SATELLITES':-3,\n",
    "    'GPS_FIX_SATELLITES':-4,\n",
    "    'GPS_FIX':-5,\n",
    "    'DETECTED_ACTIVITY':-6,\n",
    "    'WIFI_ACCESS_POINTS':-7,\n",
    "    'BLUETOOTH_DEVICES':-8\n",
    "}\n",
    "\n",
    "for index,row in df.iterrows():\n",
    "    if  df.loc[index,'sensor_type'] == -1:\n",
    "        df.loc[index,'sensor_type'] = sensor_type_dict[ row['sensor_name']]"
   ]
  },
  {
   "cell_type": "code",
   "execution_count": 73,
   "metadata": {},
   "outputs": [],
   "source": [
    "df_wide = df.pivot_table(index=['timestamp'], columns='sensor_name', values='value')\n",
    "\n",
    "\n",
    "last_seen_values = {}\n",
    "sensor_types = df['sensor_name'].unique()\n",
    "for sensor_type in sensor_types:\n",
    "    last_seen_values[sensor_type] = float('nan')\n",
    "\n",
    "for index,row in df_wide.iterrows():\n",
    "    if row['MONITORING'] == 0:\n",
    "        for sensor_type in sensor_types:\n",
    "            last_seen_values[sensor_type] = float('nan')\n",
    "    else:        \n",
    "        for sensor_type in sensor_types:\n",
    "            if math.isnan(row[sensor_type]):\n",
    "                row[sensor_type] = last_seen_values[sensor_type]\n",
    "            last_seen_values[sensor_type] = row[sensor_type] \n",
    "\n",
    "for index,row in df_wide.iterrows():\n",
    "    containsNaN = 0.0\n",
    "    for sensor_type in sensor_types:\n",
    "        if math.isnan(row[sensor_type]):\n",
    "            containsNaN = 1.0\n",
    "            break\n",
    "    df_wide.loc[index,'containsNaN'] = containsNaN\n",
    "\n",
    "df_wide = df_wide[(df_wide['MONITORING'] == 1.0) & (df_wide['containsNaN'] == 0.0)]  \n",
    "del df_wide['containsNaN']\n",
    "        \n",
    "df_wide.to_csv('preprocessed_data.csv')"
   ]
  },
  {
   "cell_type": "code",
   "execution_count": null,
   "metadata": {},
   "outputs": [],
   "source": []
  }
 ],
 "metadata": {
  "colab": {
   "collapsed_sections": [],
   "name": "IONeuralNetwork.ipynb",
   "provenance": []
  },
  "kernelspec": {
   "display_name": "Python 3",
   "language": "python",
   "name": "python3"
  },
  "language_info": {
   "codemirror_mode": {
    "name": "ipython",
    "version": 3
   },
   "file_extension": ".py",
   "mimetype": "text/x-python",
   "name": "python",
   "nbconvert_exporter": "python",
   "pygments_lexer": "ipython3",
   "version": "3.9.0"
  }
 },
 "nbformat": 4,
 "nbformat_minor": 1
}
