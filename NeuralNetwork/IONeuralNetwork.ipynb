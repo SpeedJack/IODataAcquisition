{
  "nbformat": 4,
  "nbformat_minor": 0,
  "metadata": {
    "colab": {
      "name": "IONeuralNetwork.ipynb",
      "provenance": [],
      "collapsed_sections": []
    },
    "kernelspec": {
      "display_name": "Python 3",
      "language": "python",
      "name": "python3"
    },
    "language_info": {
      "codemirror_mode": {
        "name": "ipython",
        "version": 3
      },
      "file_extension": ".py",
      "mimetype": "text/x-python",
      "name": "python",
      "nbconvert_exporter": "python",
      "pygments_lexer": "ipython3",
      "version": "3.9.0"
    },
    "accelerator": "GPU",
    "widgets": {
      "application/vnd.jupyter.widget-state+json": {
        "a59d8ce9ac0d4d70b436db69d6d7c6d0": {
          "model_module": "@jupyter-widgets/controls",
          "model_name": "HBoxModel",
          "state": {
            "_view_name": "HBoxView",
            "_dom_classes": [],
            "_model_name": "HBoxModel",
            "_view_module": "@jupyter-widgets/controls",
            "_model_module_version": "1.5.0",
            "_view_count": null,
            "_view_module_version": "1.5.0",
            "box_style": "",
            "layout": "IPY_MODEL_c7c7242718544d509de463faa863f700",
            "_model_module": "@jupyter-widgets/controls",
            "children": [
              "IPY_MODEL_2daaec9114f8445594b25f938a7ca62e",
              "IPY_MODEL_be73547eebfa4670a3503381353b7128"
            ]
          }
        },
        "c7c7242718544d509de463faa863f700": {
          "model_module": "@jupyter-widgets/base",
          "model_name": "LayoutModel",
          "state": {
            "_view_name": "LayoutView",
            "grid_template_rows": null,
            "right": null,
            "justify_content": null,
            "_view_module": "@jupyter-widgets/base",
            "overflow": null,
            "_model_module_version": "1.2.0",
            "_view_count": null,
            "flex_flow": null,
            "width": null,
            "min_width": null,
            "border": null,
            "align_items": null,
            "bottom": null,
            "_model_module": "@jupyter-widgets/base",
            "top": null,
            "grid_column": null,
            "overflow_y": null,
            "overflow_x": null,
            "grid_auto_flow": null,
            "grid_area": null,
            "grid_template_columns": null,
            "flex": null,
            "_model_name": "LayoutModel",
            "justify_items": null,
            "grid_row": null,
            "max_height": null,
            "align_content": null,
            "visibility": null,
            "align_self": null,
            "height": null,
            "min_height": null,
            "padding": null,
            "grid_auto_rows": null,
            "grid_gap": null,
            "max_width": null,
            "order": null,
            "_view_module_version": "1.2.0",
            "grid_template_areas": null,
            "object_position": null,
            "object_fit": null,
            "grid_auto_columns": null,
            "margin": null,
            "display": null,
            "left": null
          }
        },
        "2daaec9114f8445594b25f938a7ca62e": {
          "model_module": "@jupyter-widgets/controls",
          "model_name": "FloatProgressModel",
          "state": {
            "_view_name": "ProgressView",
            "style": "IPY_MODEL_fe48ab76bb604072bd57c6e12356033d",
            "_dom_classes": [],
            "description": "  0%",
            "_model_name": "FloatProgressModel",
            "bar_style": "danger",
            "max": 22540,
            "_view_module": "@jupyter-widgets/controls",
            "_model_module_version": "1.5.0",
            "value": 31,
            "_view_count": null,
            "_view_module_version": "1.5.0",
            "orientation": "horizontal",
            "min": 0,
            "description_tooltip": null,
            "_model_module": "@jupyter-widgets/controls",
            "layout": "IPY_MODEL_e3e7c70818594b2c8cacd3e0e23fbc69"
          }
        },
        "be73547eebfa4670a3503381353b7128": {
          "model_module": "@jupyter-widgets/controls",
          "model_name": "HTMLModel",
          "state": {
            "_view_name": "HTMLView",
            "style": "IPY_MODEL_eebe8431efb644b48c98dec91cdeb625",
            "_dom_classes": [],
            "description": "",
            "_model_name": "HTMLModel",
            "placeholder": "​",
            "_view_module": "@jupyter-widgets/controls",
            "_model_module_version": "1.5.0",
            "value": " 31/22540 [00:46&lt;9:14:52,  1.48s/it]",
            "_view_count": null,
            "_view_module_version": "1.5.0",
            "description_tooltip": null,
            "_model_module": "@jupyter-widgets/controls",
            "layout": "IPY_MODEL_c23d7fa9948b402dabd5b3294e69e727"
          }
        },
        "fe48ab76bb604072bd57c6e12356033d": {
          "model_module": "@jupyter-widgets/controls",
          "model_name": "ProgressStyleModel",
          "state": {
            "_view_name": "StyleView",
            "_model_name": "ProgressStyleModel",
            "description_width": "initial",
            "_view_module": "@jupyter-widgets/base",
            "_model_module_version": "1.5.0",
            "_view_count": null,
            "_view_module_version": "1.2.0",
            "bar_color": null,
            "_model_module": "@jupyter-widgets/controls"
          }
        },
        "e3e7c70818594b2c8cacd3e0e23fbc69": {
          "model_module": "@jupyter-widgets/base",
          "model_name": "LayoutModel",
          "state": {
            "_view_name": "LayoutView",
            "grid_template_rows": null,
            "right": null,
            "justify_content": null,
            "_view_module": "@jupyter-widgets/base",
            "overflow": null,
            "_model_module_version": "1.2.0",
            "_view_count": null,
            "flex_flow": null,
            "width": null,
            "min_width": null,
            "border": null,
            "align_items": null,
            "bottom": null,
            "_model_module": "@jupyter-widgets/base",
            "top": null,
            "grid_column": null,
            "overflow_y": null,
            "overflow_x": null,
            "grid_auto_flow": null,
            "grid_area": null,
            "grid_template_columns": null,
            "flex": null,
            "_model_name": "LayoutModel",
            "justify_items": null,
            "grid_row": null,
            "max_height": null,
            "align_content": null,
            "visibility": null,
            "align_self": null,
            "height": null,
            "min_height": null,
            "padding": null,
            "grid_auto_rows": null,
            "grid_gap": null,
            "max_width": null,
            "order": null,
            "_view_module_version": "1.2.0",
            "grid_template_areas": null,
            "object_position": null,
            "object_fit": null,
            "grid_auto_columns": null,
            "margin": null,
            "display": null,
            "left": null
          }
        },
        "eebe8431efb644b48c98dec91cdeb625": {
          "model_module": "@jupyter-widgets/controls",
          "model_name": "DescriptionStyleModel",
          "state": {
            "_view_name": "StyleView",
            "_model_name": "DescriptionStyleModel",
            "description_width": "",
            "_view_module": "@jupyter-widgets/base",
            "_model_module_version": "1.5.0",
            "_view_count": null,
            "_view_module_version": "1.2.0",
            "_model_module": "@jupyter-widgets/controls"
          }
        },
        "c23d7fa9948b402dabd5b3294e69e727": {
          "model_module": "@jupyter-widgets/base",
          "model_name": "LayoutModel",
          "state": {
            "_view_name": "LayoutView",
            "grid_template_rows": null,
            "right": null,
            "justify_content": null,
            "_view_module": "@jupyter-widgets/base",
            "overflow": null,
            "_model_module_version": "1.2.0",
            "_view_count": null,
            "flex_flow": null,
            "width": null,
            "min_width": null,
            "border": null,
            "align_items": null,
            "bottom": null,
            "_model_module": "@jupyter-widgets/base",
            "top": null,
            "grid_column": null,
            "overflow_y": null,
            "overflow_x": null,
            "grid_auto_flow": null,
            "grid_area": null,
            "grid_template_columns": null,
            "flex": null,
            "_model_name": "LayoutModel",
            "justify_items": null,
            "grid_row": null,
            "max_height": null,
            "align_content": null,
            "visibility": null,
            "align_self": null,
            "height": null,
            "min_height": null,
            "padding": null,
            "grid_auto_rows": null,
            "grid_gap": null,
            "max_width": null,
            "order": null,
            "_view_module_version": "1.2.0",
            "grid_template_areas": null,
            "object_position": null,
            "object_fit": null,
            "grid_auto_columns": null,
            "margin": null,
            "display": null,
            "left": null
          }
        }
      }
    }
  },
  "cells": [
    {
      "cell_type": "code",
      "metadata": {
        "id": "f7L5rGCIs3sc"
      },
      "source": [
        "import os\n",
        "import math\n",
        "import pandas as pd\n",
        "import numpy as np\n",
        "import matplotlib.pyplot as plt\n",
        "from itertools import product, chain, combinations\n",
        "from scipy import stats\n",
        "from IPython.display import display, HTML\n",
        "%matplotlib inline"
      ],
      "execution_count": 3,
      "outputs": []
    },
    {
      "cell_type": "code",
      "metadata": {
        "id": "AqjESA2vvfVX"
      },
      "source": [
        "inputFile = 'preprocessed_data.csv'"
      ],
      "execution_count": 6,
      "outputs": []
    },
    {
      "cell_type": "code",
      "metadata": {
        "colab": {
          "base_uri": "https://localhost:8080/",
          "height": 444
        },
        "id": "LY4PBKuhviNX",
        "outputId": "4a12de2d-566c-4085-9d21-0b88a0dd1181"
      },
      "source": [
        "df = pd.read_csv(inputFile)\n",
        "del df['FileName']\n",
        "del df['timestamp']\n",
        "target = df.loc[:,'INDOOR'].to_numpy()\n",
        "del df['INDOOR']"
      ],
      "execution_count": 11,
      "outputs": [
        {
          "output_type": "execute_result",
          "data": {
            "text/html": [
              "<div>\n",
              "<style scoped>\n",
              "    .dataframe tbody tr th:only-of-type {\n",
              "        vertical-align: middle;\n",
              "    }\n",
              "\n",
              "    .dataframe tbody tr th {\n",
              "        vertical-align: top;\n",
              "    }\n",
              "\n",
              "    .dataframe thead th {\n",
              "        text-align: right;\n",
              "    }\n",
              "</style>\n",
              "<table border=\"1\" class=\"dataframe\">\n",
              "  <thead>\n",
              "    <tr style=\"text-align: right;\">\n",
              "      <th></th>\n",
              "      <th>BLUETOOTH_DEVICES</th>\n",
              "      <th>GPS_FIX</th>\n",
              "      <th>GPS_FIX_SATELLITES</th>\n",
              "      <th>GPS_SATELLITES</th>\n",
              "      <th>LIGHT</th>\n",
              "      <th>WIFI_ACCESS_POINTS</th>\n",
              "      <th>NIGHT</th>\n",
              "      <th>TWILIGHT</th>\n",
              "      <th>DAYLIGHT</th>\n",
              "      <th>IN_VEHICLE</th>\n",
              "      <th>ON_BICYCLE</th>\n",
              "      <th>ON_FOOT</th>\n",
              "      <th>STILL</th>\n",
              "      <th>TILTING</th>\n",
              "      <th>WALKING</th>\n",
              "      <th>RUNNING</th>\n",
              "      <th>PROXIMITY</th>\n",
              "    </tr>\n",
              "  </thead>\n",
              "  <tbody>\n",
              "    <tr>\n",
              "      <th>0</th>\n",
              "      <td>3.0</td>\n",
              "      <td>1.620829e+09</td>\n",
              "      <td>0.0</td>\n",
              "      <td>9.0</td>\n",
              "      <td>20.0</td>\n",
              "      <td>1.0</td>\n",
              "      <td>0.0</td>\n",
              "      <td>0.0</td>\n",
              "      <td>1.0</td>\n",
              "      <td>0.0</td>\n",
              "      <td>0.0</td>\n",
              "      <td>0.0</td>\n",
              "      <td>1.0</td>\n",
              "      <td>0.0</td>\n",
              "      <td>0.0</td>\n",
              "      <td>0.0</td>\n",
              "      <td>1.0</td>\n",
              "    </tr>\n",
              "    <tr>\n",
              "      <th>1</th>\n",
              "      <td>3.0</td>\n",
              "      <td>1.620829e+09</td>\n",
              "      <td>0.0</td>\n",
              "      <td>9.0</td>\n",
              "      <td>20.0</td>\n",
              "      <td>1.0</td>\n",
              "      <td>0.0</td>\n",
              "      <td>0.0</td>\n",
              "      <td>1.0</td>\n",
              "      <td>0.0</td>\n",
              "      <td>0.0</td>\n",
              "      <td>0.0</td>\n",
              "      <td>1.0</td>\n",
              "      <td>0.0</td>\n",
              "      <td>0.0</td>\n",
              "      <td>0.0</td>\n",
              "      <td>1.0</td>\n",
              "    </tr>\n",
              "    <tr>\n",
              "      <th>2</th>\n",
              "      <td>3.0</td>\n",
              "      <td>1.620829e+09</td>\n",
              "      <td>0.0</td>\n",
              "      <td>8.0</td>\n",
              "      <td>20.0</td>\n",
              "      <td>1.0</td>\n",
              "      <td>0.0</td>\n",
              "      <td>0.0</td>\n",
              "      <td>1.0</td>\n",
              "      <td>0.0</td>\n",
              "      <td>0.0</td>\n",
              "      <td>0.0</td>\n",
              "      <td>1.0</td>\n",
              "      <td>0.0</td>\n",
              "      <td>0.0</td>\n",
              "      <td>0.0</td>\n",
              "      <td>1.0</td>\n",
              "    </tr>\n",
              "    <tr>\n",
              "      <th>3</th>\n",
              "      <td>3.0</td>\n",
              "      <td>1.620829e+09</td>\n",
              "      <td>0.0</td>\n",
              "      <td>8.0</td>\n",
              "      <td>20.0</td>\n",
              "      <td>1.0</td>\n",
              "      <td>0.0</td>\n",
              "      <td>0.0</td>\n",
              "      <td>1.0</td>\n",
              "      <td>0.0</td>\n",
              "      <td>0.0</td>\n",
              "      <td>0.0</td>\n",
              "      <td>1.0</td>\n",
              "      <td>0.0</td>\n",
              "      <td>0.0</td>\n",
              "      <td>0.0</td>\n",
              "      <td>1.0</td>\n",
              "    </tr>\n",
              "    <tr>\n",
              "      <th>4</th>\n",
              "      <td>3.0</td>\n",
              "      <td>1.620829e+09</td>\n",
              "      <td>0.0</td>\n",
              "      <td>7.0</td>\n",
              "      <td>20.0</td>\n",
              "      <td>1.0</td>\n",
              "      <td>0.0</td>\n",
              "      <td>0.0</td>\n",
              "      <td>1.0</td>\n",
              "      <td>0.0</td>\n",
              "      <td>0.0</td>\n",
              "      <td>0.0</td>\n",
              "      <td>1.0</td>\n",
              "      <td>0.0</td>\n",
              "      <td>0.0</td>\n",
              "      <td>0.0</td>\n",
              "      <td>1.0</td>\n",
              "    </tr>\n",
              "    <tr>\n",
              "      <th>...</th>\n",
              "      <td>...</td>\n",
              "      <td>...</td>\n",
              "      <td>...</td>\n",
              "      <td>...</td>\n",
              "      <td>...</td>\n",
              "      <td>...</td>\n",
              "      <td>...</td>\n",
              "      <td>...</td>\n",
              "      <td>...</td>\n",
              "      <td>...</td>\n",
              "      <td>...</td>\n",
              "      <td>...</td>\n",
              "      <td>...</td>\n",
              "      <td>...</td>\n",
              "      <td>...</td>\n",
              "      <td>...</td>\n",
              "      <td>...</td>\n",
              "    </tr>\n",
              "    <tr>\n",
              "      <th>33638</th>\n",
              "      <td>1.0</td>\n",
              "      <td>4.345669e+03</td>\n",
              "      <td>6.0</td>\n",
              "      <td>21.0</td>\n",
              "      <td>7.0</td>\n",
              "      <td>5.0</td>\n",
              "      <td>1.0</td>\n",
              "      <td>0.0</td>\n",
              "      <td>0.0</td>\n",
              "      <td>0.0</td>\n",
              "      <td>0.0</td>\n",
              "      <td>0.0</td>\n",
              "      <td>1.0</td>\n",
              "      <td>0.0</td>\n",
              "      <td>0.0</td>\n",
              "      <td>0.0</td>\n",
              "      <td>1.0</td>\n",
              "    </tr>\n",
              "    <tr>\n",
              "      <th>33639</th>\n",
              "      <td>1.0</td>\n",
              "      <td>4.345751e+03</td>\n",
              "      <td>6.0</td>\n",
              "      <td>18.0</td>\n",
              "      <td>7.0</td>\n",
              "      <td>5.0</td>\n",
              "      <td>1.0</td>\n",
              "      <td>0.0</td>\n",
              "      <td>0.0</td>\n",
              "      <td>0.0</td>\n",
              "      <td>0.0</td>\n",
              "      <td>0.0</td>\n",
              "      <td>1.0</td>\n",
              "      <td>0.0</td>\n",
              "      <td>0.0</td>\n",
              "      <td>0.0</td>\n",
              "      <td>1.0</td>\n",
              "    </tr>\n",
              "    <tr>\n",
              "      <th>33640</th>\n",
              "      <td>1.0</td>\n",
              "      <td>4.345793e+03</td>\n",
              "      <td>0.0</td>\n",
              "      <td>18.0</td>\n",
              "      <td>7.0</td>\n",
              "      <td>5.0</td>\n",
              "      <td>1.0</td>\n",
              "      <td>0.0</td>\n",
              "      <td>0.0</td>\n",
              "      <td>0.0</td>\n",
              "      <td>0.0</td>\n",
              "      <td>0.0</td>\n",
              "      <td>1.0</td>\n",
              "      <td>0.0</td>\n",
              "      <td>0.0</td>\n",
              "      <td>0.0</td>\n",
              "      <td>1.0</td>\n",
              "    </tr>\n",
              "    <tr>\n",
              "      <th>33641</th>\n",
              "      <td>1.0</td>\n",
              "      <td>4.346742e+03</td>\n",
              "      <td>0.0</td>\n",
              "      <td>18.0</td>\n",
              "      <td>14.0</td>\n",
              "      <td>5.0</td>\n",
              "      <td>1.0</td>\n",
              "      <td>0.0</td>\n",
              "      <td>0.0</td>\n",
              "      <td>0.0</td>\n",
              "      <td>0.0</td>\n",
              "      <td>0.0</td>\n",
              "      <td>1.0</td>\n",
              "      <td>0.0</td>\n",
              "      <td>0.0</td>\n",
              "      <td>0.0</td>\n",
              "      <td>1.0</td>\n",
              "    </tr>\n",
              "    <tr>\n",
              "      <th>33642</th>\n",
              "      <td>1.0</td>\n",
              "      <td>4.347814e+03</td>\n",
              "      <td>0.0</td>\n",
              "      <td>18.0</td>\n",
              "      <td>21.0</td>\n",
              "      <td>5.0</td>\n",
              "      <td>1.0</td>\n",
              "      <td>0.0</td>\n",
              "      <td>0.0</td>\n",
              "      <td>0.0</td>\n",
              "      <td>0.0</td>\n",
              "      <td>0.0</td>\n",
              "      <td>1.0</td>\n",
              "      <td>0.0</td>\n",
              "      <td>0.0</td>\n",
              "      <td>0.0</td>\n",
              "      <td>1.0</td>\n",
              "    </tr>\n",
              "  </tbody>\n",
              "</table>\n",
              "<p>33643 rows × 17 columns</p>\n",
              "</div>"
            ],
            "text/plain": [
              "       BLUETOOTH_DEVICES       GPS_FIX  ...  RUNNING  PROXIMITY\n",
              "0                    3.0  1.620829e+09  ...      0.0        1.0\n",
              "1                    3.0  1.620829e+09  ...      0.0        1.0\n",
              "2                    3.0  1.620829e+09  ...      0.0        1.0\n",
              "3                    3.0  1.620829e+09  ...      0.0        1.0\n",
              "4                    3.0  1.620829e+09  ...      0.0        1.0\n",
              "...                  ...           ...  ...      ...        ...\n",
              "33638                1.0  4.345669e+03  ...      0.0        1.0\n",
              "33639                1.0  4.345751e+03  ...      0.0        1.0\n",
              "33640                1.0  4.345793e+03  ...      0.0        1.0\n",
              "33641                1.0  4.346742e+03  ...      0.0        1.0\n",
              "33642                1.0  4.347814e+03  ...      0.0        1.0\n",
              "\n",
              "[33643 rows x 17 columns]"
            ]
          },
          "metadata": {
            "tags": []
          },
          "execution_count": 11
        }
      ]
    },
    {
      "cell_type": "code",
      "metadata": {
        "colab": {
          "base_uri": "https://localhost:8080/",
          "height": 386
        },
        "id": "D40ClWDpcLeV",
        "outputId": "7cc74987-3f40-40f6-a10e-971476ff20b3"
      },
      "source": [
        "import seaborn as sns\n",
        "corr = df.corr()\n",
        "sns.heatmap(corr)"
      ],
      "execution_count": 24,
      "outputs": [
        {
          "output_type": "execute_result",
          "data": {
            "text/plain": [
              "<matplotlib.axes._subplots.AxesSubplot at 0x7f521ca36750>"
            ]
          },
          "metadata": {
            "tags": []
          },
          "execution_count": 24
        },
        {
          "output_type": "display_data",
          "data": {
            "image/png": "[encoded data removed]",
            "text/plain": [
              "<Figure size 432x288 with 2 Axes>"
            ]
          },
          "metadata": {
            "tags": [],
            "needs_background": "light"
          }
        }
      ]
    },
    {
      "cell_type": "code",
      "metadata": {
        "colab": {
          "base_uri": "https://localhost:8080/"
        },
        "id": "eSazBHS27TJ2",
        "outputId": "cb715e9c-003d-4f33-b372-7269db5ab9ba"
      },
      "source": [
        "import tensorflow as tf\n",
        "from sklearn.model_selection import train_test_split\n",
        "X_train, X_test, y_train, y_test = train_test_split(df.to_numpy(), target, test_size=0.33) \n",
        "print(X_train.shape,X_test.shape,y_train.shape,y_test.shape)\n"
      ],
      "execution_count": 12,
      "outputs": [
        {
          "output_type": "stream",
          "text": [
            "(22540, 17) (11103, 17) (22540,) (11103,)\n"
          ],
          "name": "stdout"
        }
      ]
    },
    {
      "cell_type": "code",
      "metadata": {
        "colab": {
          "base_uri": "https://localhost:8080/"
        },
        "id": "iHkz_y2q7TJ9",
        "outputId": "a12149e3-20b4-4335-a29d-37557ba90fd1"
      },
      "source": [
        "D = X_train.shape[1]\n",
        "D"
      ],
      "execution_count": 14,
      "outputs": [
        {
          "output_type": "execute_result",
          "data": {
            "text/plain": [
              "17"
            ]
          },
          "metadata": {
            "tags": []
          },
          "execution_count": 14
        }
      ]
    },
    {
      "cell_type": "code",
      "metadata": {
        "colab": {
          "base_uri": "https://localhost:8080/"
        },
        "id": "m3NSTgbH7TJ_",
        "outputId": "ee418734-7e4d-47f6-cfcd-8527aaa63ee4"
      },
      "source": [
        "# Now all the fun Tensorflow stuff\n",
        "# Build the model\n",
        "\n",
        "i = tf.keras.layers.Input(shape=(D,),name='Input')\n",
        "n_i = tf.keras.layers.LayerNormalization(axis=-1,name='Normalization')(i[:,:6])\n",
        "x = tf.keras.layers.Concatenate(name='Concatenate')([n_i,i[:,6:]])\n",
        "x = tf.keras.layers.Dense(16,activation='sigmoid')(x)\n",
        "x = tf.keras.layers.Dense(1, activation='sigmoid', name='Classifier')(x)\n",
        "model = tf.keras.models.Model(i, x)\n",
        "\n",
        "\n",
        "model.compile(optimizer='adam',\n",
        "              loss='binary_crossentropy',\n",
        "              metrics=['accuracy'])\n",
        "\n",
        "r = model.fit(X_train,y_train,validation_data=(X_test, y_test), epochs=200)\n",
        "\n",
        "print(\"Train score:\", model.evaluate(X_train, y_train))\n",
        "print(\"Test score:\", model.evaluate(X_test, y_test))\n"
      ],
      "execution_count": 28,
      "outputs": [
        {
          "output_type": "stream",
          "text": [
            "Epoch 1/200\n",
            "705/705 [==============================] - 3s 3ms/step - loss: 0.6135 - accuracy: 0.6889 - val_loss: 0.4115 - val_accuracy: 0.8228\n",
            "Epoch 2/200\n",
            "705/705 [==============================] - 2s 3ms/step - loss: 0.3975 - accuracy: 0.8257 - val_loss: 0.3703 - val_accuracy: 0.8414\n",
            "Epoch 3/200\n",
            "705/705 [==============================] - 2s 3ms/step - loss: 0.3684 - accuracy: 0.8431 - val_loss: 0.3577 - val_accuracy: 0.8672\n",
            "Epoch 4/200\n",
            "705/705 [==============================] - 2s 3ms/step - loss: 0.3532 - accuracy: 0.8585 - val_loss: 0.3481 - val_accuracy: 0.8674\n",
            "Epoch 5/200\n",
            "705/705 [==============================] - 2s 3ms/step - loss: 0.3519 - accuracy: 0.8639 - val_loss: 0.3404 - val_accuracy: 0.8447\n",
            "Epoch 6/200\n",
            "705/705 [==============================] - 2s 3ms/step - loss: 0.3415 - accuracy: 0.8603 - val_loss: 0.3359 - val_accuracy: 0.8478\n",
            "Epoch 7/200\n",
            "705/705 [==============================] - 2s 3ms/step - loss: 0.3393 - accuracy: 0.8625 - val_loss: 0.3314 - val_accuracy: 0.8654\n",
            "Epoch 8/200\n",
            "705/705 [==============================] - 2s 3ms/step - loss: 0.3300 - accuracy: 0.8674 - val_loss: 0.3289 - val_accuracy: 0.8659\n",
            "Epoch 9/200\n",
            "705/705 [==============================] - 2s 3ms/step - loss: 0.3315 - accuracy: 0.8583 - val_loss: 0.3237 - val_accuracy: 0.8643\n",
            "Epoch 10/200\n",
            "705/705 [==============================] - 2s 3ms/step - loss: 0.3240 - accuracy: 0.8744 - val_loss: 0.3204 - val_accuracy: 0.8730\n",
            "Epoch 11/200\n",
            "705/705 [==============================] - 2s 3ms/step - loss: 0.3238 - accuracy: 0.8720 - val_loss: 0.3167 - val_accuracy: 0.8828\n",
            "Epoch 12/200\n",
            "705/705 [==============================] - 2s 3ms/step - loss: 0.3222 - accuracy: 0.8719 - val_loss: 0.3130 - val_accuracy: 0.8835\n",
            "Epoch 13/200\n",
            "705/705 [==============================] - 2s 3ms/step - loss: 0.3122 - accuracy: 0.8782 - val_loss: 0.3089 - val_accuracy: 0.8808\n",
            "Epoch 14/200\n",
            "705/705 [==============================] - 2s 3ms/step - loss: 0.3080 - accuracy: 0.8815 - val_loss: 0.3052 - val_accuracy: 0.8727\n",
            "Epoch 15/200\n",
            "705/705 [==============================] - 2s 3ms/step - loss: 0.3039 - accuracy: 0.8793 - val_loss: 0.3001 - val_accuracy: 0.8852\n",
            "Epoch 16/200\n",
            "705/705 [==============================] - 2s 3ms/step - loss: 0.2962 - accuracy: 0.8859 - val_loss: 0.2987 - val_accuracy: 0.8774\n",
            "Epoch 17/200\n",
            "705/705 [==============================] - 2s 3ms/step - loss: 0.3032 - accuracy: 0.8763 - val_loss: 0.2916 - val_accuracy: 0.8849\n",
            "Epoch 18/200\n",
            "705/705 [==============================] - 2s 3ms/step - loss: 0.2904 - accuracy: 0.8846 - val_loss: 0.2891 - val_accuracy: 0.8827\n",
            "Epoch 19/200\n",
            "705/705 [==============================] - 2s 3ms/step - loss: 0.2855 - accuracy: 0.8833 - val_loss: 0.2848 - val_accuracy: 0.8864\n",
            "Epoch 20/200\n",
            "705/705 [==============================] - 2s 3ms/step - loss: 0.2772 - accuracy: 0.8876 - val_loss: 0.2836 - val_accuracy: 0.8889\n",
            "Epoch 21/200\n",
            "705/705 [==============================] - 2s 3ms/step - loss: 0.2825 - accuracy: 0.8854 - val_loss: 0.2793 - val_accuracy: 0.8880\n",
            "Epoch 22/200\n",
            "705/705 [==============================] - 2s 3ms/step - loss: 0.2750 - accuracy: 0.8873 - val_loss: 0.2772 - val_accuracy: 0.8896\n",
            "Epoch 23/200\n",
            "705/705 [==============================] - 2s 3ms/step - loss: 0.2775 - accuracy: 0.8867 - val_loss: 0.2743 - val_accuracy: 0.8916\n",
            "Epoch 24/200\n",
            "705/705 [==============================] - 2s 3ms/step - loss: 0.2686 - accuracy: 0.8947 - val_loss: 0.2717 - val_accuracy: 0.8928\n",
            "Epoch 25/200\n",
            "705/705 [==============================] - 2s 3ms/step - loss: 0.2664 - accuracy: 0.8962 - val_loss: 0.2701 - val_accuracy: 0.8991\n",
            "Epoch 26/200\n",
            "705/705 [==============================] - 2s 3ms/step - loss: 0.2686 - accuracy: 0.8955 - val_loss: 0.2681 - val_accuracy: 0.9007\n",
            "Epoch 27/200\n",
            "705/705 [==============================] - 2s 3ms/step - loss: 0.2672 - accuracy: 0.8969 - val_loss: 0.2658 - val_accuracy: 0.9000\n",
            "Epoch 28/200\n",
            "705/705 [==============================] - 2s 3ms/step - loss: 0.2632 - accuracy: 0.8991 - val_loss: 0.2640 - val_accuracy: 0.8980\n",
            "Epoch 29/200\n",
            "705/705 [==============================] - 2s 3ms/step - loss: 0.2663 - accuracy: 0.8986 - val_loss: 0.2631 - val_accuracy: 0.8968\n",
            "Epoch 30/200\n",
            "705/705 [==============================] - 2s 3ms/step - loss: 0.2553 - accuracy: 0.9012 - val_loss: 0.2630 - val_accuracy: 0.9007\n",
            "Epoch 31/200\n",
            "705/705 [==============================] - 2s 3ms/step - loss: 0.2577 - accuracy: 0.9014 - val_loss: 0.2612 - val_accuracy: 0.9015\n",
            "Epoch 32/200\n",
            "705/705 [==============================] - 2s 3ms/step - loss: 0.2547 - accuracy: 0.9052 - val_loss: 0.2579 - val_accuracy: 0.9040\n",
            "Epoch 33/200\n",
            "705/705 [==============================] - 2s 3ms/step - loss: 0.2508 - accuracy: 0.9039 - val_loss: 0.2565 - val_accuracy: 0.9050\n",
            "Epoch 34/200\n",
            "705/705 [==============================] - 2s 3ms/step - loss: 0.2460 - accuracy: 0.9086 - val_loss: 0.2572 - val_accuracy: 0.9039\n",
            "Epoch 35/200\n",
            "705/705 [==============================] - 2s 3ms/step - loss: 0.2537 - accuracy: 0.9049 - val_loss: 0.2539 - val_accuracy: 0.9053\n",
            "Epoch 36/200\n",
            "705/705 [==============================] - 2s 3ms/step - loss: 0.2553 - accuracy: 0.9019 - val_loss: 0.2527 - val_accuracy: 0.9074\n",
            "Epoch 37/200\n",
            "705/705 [==============================] - 2s 3ms/step - loss: 0.2470 - accuracy: 0.9080 - val_loss: 0.2510 - val_accuracy: 0.9083\n",
            "Epoch 38/200\n",
            "705/705 [==============================] - 2s 3ms/step - loss: 0.2489 - accuracy: 0.9064 - val_loss: 0.2513 - val_accuracy: 0.9063\n",
            "Epoch 39/200\n",
            "705/705 [==============================] - 2s 3ms/step - loss: 0.2458 - accuracy: 0.9078 - val_loss: 0.2483 - val_accuracy: 0.9095\n",
            "Epoch 40/200\n",
            "705/705 [==============================] - 2s 3ms/step - loss: 0.2417 - accuracy: 0.9105 - val_loss: 0.2475 - val_accuracy: 0.9116\n",
            "Epoch 41/200\n",
            "705/705 [==============================] - 2s 3ms/step - loss: 0.2422 - accuracy: 0.9081 - val_loss: 0.2473 - val_accuracy: 0.9115\n",
            "Epoch 42/200\n",
            "705/705 [==============================] - 2s 3ms/step - loss: 0.2403 - accuracy: 0.9118 - val_loss: 0.2446 - val_accuracy: 0.9120\n",
            "Epoch 43/200\n",
            "705/705 [==============================] - 2s 3ms/step - loss: 0.2400 - accuracy: 0.9094 - val_loss: 0.2443 - val_accuracy: 0.9095\n",
            "Epoch 44/200\n",
            "705/705 [==============================] - 2s 3ms/step - loss: 0.2357 - accuracy: 0.9143 - val_loss: 0.2423 - val_accuracy: 0.9114\n",
            "Epoch 45/200\n",
            "705/705 [==============================] - 2s 3ms/step - loss: 0.2367 - accuracy: 0.9106 - val_loss: 0.2412 - val_accuracy: 0.9143\n",
            "Epoch 46/200\n",
            "705/705 [==============================] - 2s 3ms/step - loss: 0.2319 - accuracy: 0.9130 - val_loss: 0.2401 - val_accuracy: 0.9121\n",
            "Epoch 47/200\n",
            "705/705 [==============================] - 2s 3ms/step - loss: 0.2342 - accuracy: 0.9115 - val_loss: 0.2385 - val_accuracy: 0.9136\n",
            "Epoch 48/200\n",
            "705/705 [==============================] - 2s 3ms/step - loss: 0.2337 - accuracy: 0.9131 - val_loss: 0.2393 - val_accuracy: 0.9118\n",
            "Epoch 49/200\n",
            "705/705 [==============================] - 2s 3ms/step - loss: 0.2340 - accuracy: 0.9112 - val_loss: 0.2362 - val_accuracy: 0.9146\n",
            "Epoch 50/200\n",
            "705/705 [==============================] - 2s 3ms/step - loss: 0.2312 - accuracy: 0.9134 - val_loss: 0.2349 - val_accuracy: 0.9143\n",
            "Epoch 51/200\n",
            "705/705 [==============================] - 2s 3ms/step - loss: 0.2331 - accuracy: 0.9111 - val_loss: 0.2357 - val_accuracy: 0.9114\n",
            "Epoch 52/200\n",
            "705/705 [==============================] - 2s 3ms/step - loss: 0.2325 - accuracy: 0.9109 - val_loss: 0.2339 - val_accuracy: 0.9125\n",
            "Epoch 53/200\n",
            "705/705 [==============================] - 2s 3ms/step - loss: 0.2242 - accuracy: 0.9155 - val_loss: 0.2311 - val_accuracy: 0.9170\n",
            "Epoch 54/200\n",
            "705/705 [==============================] - 2s 3ms/step - loss: 0.2285 - accuracy: 0.9136 - val_loss: 0.2316 - val_accuracy: 0.9170\n",
            "Epoch 55/200\n",
            "705/705 [==============================] - 2s 3ms/step - loss: 0.2217 - accuracy: 0.9160 - val_loss: 0.2341 - val_accuracy: 0.9097\n",
            "Epoch 56/200\n",
            "705/705 [==============================] - 2s 3ms/step - loss: 0.2264 - accuracy: 0.9132 - val_loss: 0.2280 - val_accuracy: 0.9179\n",
            "Epoch 57/200\n",
            "705/705 [==============================] - 2s 3ms/step - loss: 0.2197 - accuracy: 0.9164 - val_loss: 0.2265 - val_accuracy: 0.9170\n",
            "Epoch 58/200\n",
            "705/705 [==============================] - 2s 3ms/step - loss: 0.2158 - accuracy: 0.9204 - val_loss: 0.2261 - val_accuracy: 0.9161\n",
            "Epoch 59/200\n",
            "705/705 [==============================] - 2s 3ms/step - loss: 0.2119 - accuracy: 0.9182 - val_loss: 0.2268 - val_accuracy: 0.9148\n",
            "Epoch 60/200\n",
            "705/705 [==============================] - 2s 3ms/step - loss: 0.2162 - accuracy: 0.9174 - val_loss: 0.2232 - val_accuracy: 0.9180\n",
            "Epoch 61/200\n",
            "705/705 [==============================] - 2s 3ms/step - loss: 0.2140 - accuracy: 0.9174 - val_loss: 0.2233 - val_accuracy: 0.9204\n",
            "Epoch 62/200\n",
            "705/705 [==============================] - 2s 3ms/step - loss: 0.2147 - accuracy: 0.9164 - val_loss: 0.2206 - val_accuracy: 0.9198\n",
            "Epoch 63/200\n",
            "705/705 [==============================] - 2s 3ms/step - loss: 0.2072 - accuracy: 0.9188 - val_loss: 0.2201 - val_accuracy: 0.9202\n",
            "Epoch 64/200\n",
            "705/705 [==============================] - 2s 3ms/step - loss: 0.2148 - accuracy: 0.9177 - val_loss: 0.2185 - val_accuracy: 0.9203\n",
            "Epoch 65/200\n",
            "705/705 [==============================] - 2s 3ms/step - loss: 0.2133 - accuracy: 0.9196 - val_loss: 0.2185 - val_accuracy: 0.9206\n",
            "Epoch 66/200\n",
            "705/705 [==============================] - 2s 3ms/step - loss: 0.2097 - accuracy: 0.9199 - val_loss: 0.2177 - val_accuracy: 0.9187\n",
            "Epoch 67/200\n",
            "705/705 [==============================] - 2s 3ms/step - loss: 0.2134 - accuracy: 0.9161 - val_loss: 0.2163 - val_accuracy: 0.9190\n",
            "Epoch 68/200\n",
            "705/705 [==============================] - 2s 3ms/step - loss: 0.2140 - accuracy: 0.9173 - val_loss: 0.2146 - val_accuracy: 0.9209\n",
            "Epoch 69/200\n",
            "705/705 [==============================] - 2s 3ms/step - loss: 0.2113 - accuracy: 0.9197 - val_loss: 0.2136 - val_accuracy: 0.9207\n",
            "Epoch 70/200\n",
            "705/705 [==============================] - 2s 3ms/step - loss: 0.2026 - accuracy: 0.9199 - val_loss: 0.2129 - val_accuracy: 0.9201\n",
            "Epoch 71/200\n",
            "705/705 [==============================] - 2s 3ms/step - loss: 0.2056 - accuracy: 0.9152 - val_loss: 0.2126 - val_accuracy: 0.9226\n",
            "Epoch 72/200\n",
            "705/705 [==============================] - 2s 3ms/step - loss: 0.2026 - accuracy: 0.9202 - val_loss: 0.2107 - val_accuracy: 0.9222\n",
            "Epoch 73/200\n",
            "705/705 [==============================] - 2s 3ms/step - loss: 0.2052 - accuracy: 0.9188 - val_loss: 0.2107 - val_accuracy: 0.9215\n",
            "Epoch 74/200\n",
            "705/705 [==============================] - 2s 3ms/step - loss: 0.2038 - accuracy: 0.9222 - val_loss: 0.2094 - val_accuracy: 0.9224\n",
            "Epoch 75/200\n",
            "705/705 [==============================] - 2s 3ms/step - loss: 0.2003 - accuracy: 0.9235 - val_loss: 0.2100 - val_accuracy: 0.9241\n",
            "Epoch 76/200\n",
            "705/705 [==============================] - 2s 3ms/step - loss: 0.2037 - accuracy: 0.9197 - val_loss: 0.2078 - val_accuracy: 0.9245\n",
            "Epoch 77/200\n",
            "705/705 [==============================] - 2s 3ms/step - loss: 0.2030 - accuracy: 0.9193 - val_loss: 0.2072 - val_accuracy: 0.9233\n",
            "Epoch 78/200\n",
            "705/705 [==============================] - 2s 3ms/step - loss: 0.2005 - accuracy: 0.9231 - val_loss: 0.2072 - val_accuracy: 0.9240\n",
            "Epoch 79/200\n",
            "705/705 [==============================] - 2s 3ms/step - loss: 0.1940 - accuracy: 0.9227 - val_loss: 0.2057 - val_accuracy: 0.9240\n",
            "Epoch 80/200\n",
            "705/705 [==============================] - 2s 3ms/step - loss: 0.1921 - accuracy: 0.9238 - val_loss: 0.2045 - val_accuracy: 0.9252\n",
            "Epoch 81/200\n",
            "705/705 [==============================] - 2s 3ms/step - loss: 0.1956 - accuracy: 0.9239 - val_loss: 0.2042 - val_accuracy: 0.9249\n",
            "Epoch 82/200\n",
            "705/705 [==============================] - 2s 3ms/step - loss: 0.1924 - accuracy: 0.9245 - val_loss: 0.2037 - val_accuracy: 0.9249\n",
            "Epoch 83/200\n",
            "705/705 [==============================] - 2s 3ms/step - loss: 0.1948 - accuracy: 0.9256 - val_loss: 0.2027 - val_accuracy: 0.9269\n",
            "Epoch 84/200\n",
            "705/705 [==============================] - 2s 3ms/step - loss: 0.2001 - accuracy: 0.9227 - val_loss: 0.2022 - val_accuracy: 0.9263\n",
            "Epoch 85/200\n",
            "705/705 [==============================] - 2s 3ms/step - loss: 0.1907 - accuracy: 0.9240 - val_loss: 0.2022 - val_accuracy: 0.9273\n",
            "Epoch 86/200\n",
            "705/705 [==============================] - 2s 3ms/step - loss: 0.1919 - accuracy: 0.9237 - val_loss: 0.2017 - val_accuracy: 0.9269\n",
            "Epoch 87/200\n",
            "705/705 [==============================] - 2s 3ms/step - loss: 0.1870 - accuracy: 0.9277 - val_loss: 0.2013 - val_accuracy: 0.9281\n",
            "Epoch 88/200\n",
            "705/705 [==============================] - 2s 3ms/step - loss: 0.1889 - accuracy: 0.9247 - val_loss: 0.1999 - val_accuracy: 0.9274\n",
            "Epoch 89/200\n",
            "705/705 [==============================] - 2s 3ms/step - loss: 0.1951 - accuracy: 0.9251 - val_loss: 0.2006 - val_accuracy: 0.9267\n",
            "Epoch 90/200\n",
            "705/705 [==============================] - 2s 3ms/step - loss: 0.1946 - accuracy: 0.9252 - val_loss: 0.2001 - val_accuracy: 0.9266\n",
            "Epoch 91/200\n",
            "705/705 [==============================] - 2s 3ms/step - loss: 0.1877 - accuracy: 0.9258 - val_loss: 0.1994 - val_accuracy: 0.9288\n",
            "Epoch 92/200\n",
            "705/705 [==============================] - 2s 3ms/step - loss: 0.1884 - accuracy: 0.9264 - val_loss: 0.1984 - val_accuracy: 0.9289\n",
            "Epoch 93/200\n",
            "705/705 [==============================] - 2s 3ms/step - loss: 0.1963 - accuracy: 0.9259 - val_loss: 0.1984 - val_accuracy: 0.9288\n",
            "Epoch 94/200\n",
            "705/705 [==============================] - 2s 3ms/step - loss: 0.1919 - accuracy: 0.9252 - val_loss: 0.1973 - val_accuracy: 0.9291\n",
            "Epoch 95/200\n",
            "705/705 [==============================] - 2s 3ms/step - loss: 0.1919 - accuracy: 0.9271 - val_loss: 0.1972 - val_accuracy: 0.9289\n",
            "Epoch 96/200\n",
            "705/705 [==============================] - 2s 3ms/step - loss: 0.1810 - accuracy: 0.9299 - val_loss: 0.1976 - val_accuracy: 0.9287\n",
            "Epoch 97/200\n",
            "705/705 [==============================] - 2s 3ms/step - loss: 0.1871 - accuracy: 0.9312 - val_loss: 0.1961 - val_accuracy: 0.9295\n",
            "Epoch 98/200\n",
            "705/705 [==============================] - 2s 3ms/step - loss: 0.1872 - accuracy: 0.9275 - val_loss: 0.1963 - val_accuracy: 0.9305\n",
            "Epoch 99/200\n",
            "705/705 [==============================] - 2s 3ms/step - loss: 0.1879 - accuracy: 0.9266 - val_loss: 0.1960 - val_accuracy: 0.9274\n",
            "Epoch 100/200\n",
            "705/705 [==============================] - 2s 3ms/step - loss: 0.1854 - accuracy: 0.9288 - val_loss: 0.1949 - val_accuracy: 0.9313\n",
            "Epoch 101/200\n",
            "705/705 [==============================] - 2s 3ms/step - loss: 0.1817 - accuracy: 0.9310 - val_loss: 0.1974 - val_accuracy: 0.9282\n",
            "Epoch 102/200\n",
            "705/705 [==============================] - 2s 3ms/step - loss: 0.1885 - accuracy: 0.9297 - val_loss: 0.1953 - val_accuracy: 0.9303\n",
            "Epoch 103/200\n",
            "705/705 [==============================] - 2s 3ms/step - loss: 0.1847 - accuracy: 0.9304 - val_loss: 0.1949 - val_accuracy: 0.9306\n",
            "Epoch 104/200\n",
            "705/705 [==============================] - 2s 3ms/step - loss: 0.1811 - accuracy: 0.9329 - val_loss: 0.1948 - val_accuracy: 0.9288\n",
            "Epoch 105/200\n",
            "705/705 [==============================] - 2s 3ms/step - loss: 0.1868 - accuracy: 0.9286 - val_loss: 0.1927 - val_accuracy: 0.9315\n",
            "Epoch 106/200\n",
            "705/705 [==============================] - 2s 3ms/step - loss: 0.1825 - accuracy: 0.9269 - val_loss: 0.1927 - val_accuracy: 0.9310\n",
            "Epoch 107/200\n",
            "705/705 [==============================] - 2s 3ms/step - loss: 0.1830 - accuracy: 0.9323 - val_loss: 0.1931 - val_accuracy: 0.9304\n",
            "Epoch 108/200\n",
            "705/705 [==============================] - 2s 3ms/step - loss: 0.1836 - accuracy: 0.9316 - val_loss: 0.1958 - val_accuracy: 0.9297\n",
            "Epoch 109/200\n",
            "705/705 [==============================] - 2s 3ms/step - loss: 0.1836 - accuracy: 0.9316 - val_loss: 0.1927 - val_accuracy: 0.9307\n",
            "Epoch 110/200\n",
            "705/705 [==============================] - 2s 3ms/step - loss: 0.1896 - accuracy: 0.9298 - val_loss: 0.1931 - val_accuracy: 0.9306\n",
            "Epoch 111/200\n",
            "705/705 [==============================] - 2s 3ms/step - loss: 0.1757 - accuracy: 0.9322 - val_loss: 0.1916 - val_accuracy: 0.9321\n",
            "Epoch 112/200\n",
            "705/705 [==============================] - 2s 3ms/step - loss: 0.1867 - accuracy: 0.9282 - val_loss: 0.1937 - val_accuracy: 0.9307\n",
            "Epoch 113/200\n",
            "705/705 [==============================] - 2s 3ms/step - loss: 0.1757 - accuracy: 0.9319 - val_loss: 0.1912 - val_accuracy: 0.9325\n",
            "Epoch 114/200\n",
            "705/705 [==============================] - 2s 3ms/step - loss: 0.1854 - accuracy: 0.9298 - val_loss: 0.1906 - val_accuracy: 0.9314\n",
            "Epoch 115/200\n",
            "705/705 [==============================] - 2s 3ms/step - loss: 0.1747 - accuracy: 0.9339 - val_loss: 0.1917 - val_accuracy: 0.9327\n",
            "Epoch 116/200\n",
            "705/705 [==============================] - 2s 3ms/step - loss: 0.1808 - accuracy: 0.9316 - val_loss: 0.1891 - val_accuracy: 0.9327\n",
            "Epoch 117/200\n",
            "705/705 [==============================] - 2s 3ms/step - loss: 0.1776 - accuracy: 0.9331 - val_loss: 0.1892 - val_accuracy: 0.9325\n",
            "Epoch 118/200\n",
            "705/705 [==============================] - 2s 3ms/step - loss: 0.1780 - accuracy: 0.9335 - val_loss: 0.1916 - val_accuracy: 0.9316\n",
            "Epoch 119/200\n",
            "705/705 [==============================] - 2s 3ms/step - loss: 0.1804 - accuracy: 0.9319 - val_loss: 0.1902 - val_accuracy: 0.9307\n",
            "Epoch 120/200\n",
            "705/705 [==============================] - 2s 3ms/step - loss: 0.1850 - accuracy: 0.9308 - val_loss: 0.1886 - val_accuracy: 0.9328\n",
            "Epoch 121/200\n",
            "705/705 [==============================] - 2s 3ms/step - loss: 0.1781 - accuracy: 0.9315 - val_loss: 0.1879 - val_accuracy: 0.9326\n",
            "Epoch 122/200\n",
            "705/705 [==============================] - 2s 3ms/step - loss: 0.1780 - accuracy: 0.9340 - val_loss: 0.1882 - val_accuracy: 0.9323\n",
            "Epoch 123/200\n",
            "705/705 [==============================] - 2s 3ms/step - loss: 0.1774 - accuracy: 0.9320 - val_loss: 0.1881 - val_accuracy: 0.9321\n",
            "Epoch 124/200\n",
            "705/705 [==============================] - 2s 3ms/step - loss: 0.1841 - accuracy: 0.9309 - val_loss: 0.1904 - val_accuracy: 0.9319\n",
            "Epoch 125/200\n",
            "705/705 [==============================] - 2s 3ms/step - loss: 0.1814 - accuracy: 0.9311 - val_loss: 0.1869 - val_accuracy: 0.9337\n",
            "Epoch 126/200\n",
            "705/705 [==============================] - 2s 3ms/step - loss: 0.1771 - accuracy: 0.9342 - val_loss: 0.1880 - val_accuracy: 0.9314\n",
            "Epoch 127/200\n",
            "705/705 [==============================] - 2s 3ms/step - loss: 0.1805 - accuracy: 0.9313 - val_loss: 0.1870 - val_accuracy: 0.9330\n",
            "Epoch 128/200\n",
            "705/705 [==============================] - 2s 3ms/step - loss: 0.1799 - accuracy: 0.9336 - val_loss: 0.1861 - val_accuracy: 0.9336\n",
            "Epoch 129/200\n",
            "705/705 [==============================] - 2s 3ms/step - loss: 0.1734 - accuracy: 0.9348 - val_loss: 0.1861 - val_accuracy: 0.9337\n",
            "Epoch 130/200\n",
            "705/705 [==============================] - 2s 3ms/step - loss: 0.1775 - accuracy: 0.9329 - val_loss: 0.1855 - val_accuracy: 0.9340\n",
            "Epoch 131/200\n",
            "705/705 [==============================] - 2s 3ms/step - loss: 0.1731 - accuracy: 0.9373 - val_loss: 0.1856 - val_accuracy: 0.9333\n",
            "Epoch 132/200\n",
            "705/705 [==============================] - 2s 3ms/step - loss: 0.1710 - accuracy: 0.9380 - val_loss: 0.1852 - val_accuracy: 0.9347\n",
            "Epoch 133/200\n",
            "705/705 [==============================] - 2s 3ms/step - loss: 0.1751 - accuracy: 0.9334 - val_loss: 0.1854 - val_accuracy: 0.9333\n",
            "Epoch 134/200\n",
            "705/705 [==============================] - 2s 3ms/step - loss: 0.1692 - accuracy: 0.9361 - val_loss: 0.1859 - val_accuracy: 0.9340\n",
            "Epoch 135/200\n",
            "705/705 [==============================] - 2s 3ms/step - loss: 0.1774 - accuracy: 0.9336 - val_loss: 0.1847 - val_accuracy: 0.9343\n",
            "Epoch 136/200\n",
            "705/705 [==============================] - 2s 3ms/step - loss: 0.1756 - accuracy: 0.9331 - val_loss: 0.1842 - val_accuracy: 0.9334\n",
            "Epoch 137/200\n",
            "705/705 [==============================] - 2s 3ms/step - loss: 0.1721 - accuracy: 0.9361 - val_loss: 0.1837 - val_accuracy: 0.9337\n",
            "Epoch 138/200\n",
            "705/705 [==============================] - 2s 3ms/step - loss: 0.1772 - accuracy: 0.9335 - val_loss: 0.1838 - val_accuracy: 0.9350\n",
            "Epoch 139/200\n",
            "705/705 [==============================] - 2s 3ms/step - loss: 0.1776 - accuracy: 0.9326 - val_loss: 0.1832 - val_accuracy: 0.9339\n",
            "Epoch 140/200\n",
            "705/705 [==============================] - 2s 3ms/step - loss: 0.1754 - accuracy: 0.9348 - val_loss: 0.1831 - val_accuracy: 0.9339\n",
            "Epoch 141/200\n",
            "705/705 [==============================] - 2s 3ms/step - loss: 0.1678 - accuracy: 0.9370 - val_loss: 0.1828 - val_accuracy: 0.9344\n",
            "Epoch 142/200\n",
            "705/705 [==============================] - 2s 3ms/step - loss: 0.1735 - accuracy: 0.9324 - val_loss: 0.1835 - val_accuracy: 0.9347\n",
            "Epoch 143/200\n",
            "705/705 [==============================] - 2s 3ms/step - loss: 0.1753 - accuracy: 0.9349 - val_loss: 0.1836 - val_accuracy: 0.9346\n",
            "Epoch 144/200\n",
            "705/705 [==============================] - 2s 3ms/step - loss: 0.1806 - accuracy: 0.9320 - val_loss: 0.1831 - val_accuracy: 0.9343\n",
            "Epoch 145/200\n",
            "705/705 [==============================] - 2s 3ms/step - loss: 0.1726 - accuracy: 0.9359 - val_loss: 0.1819 - val_accuracy: 0.9344\n",
            "Epoch 146/200\n",
            "705/705 [==============================] - 2s 3ms/step - loss: 0.1748 - accuracy: 0.9340 - val_loss: 0.1820 - val_accuracy: 0.9346\n",
            "Epoch 147/200\n",
            "705/705 [==============================] - 2s 3ms/step - loss: 0.1777 - accuracy: 0.9319 - val_loss: 0.1816 - val_accuracy: 0.9350\n",
            "Epoch 148/200\n",
            "705/705 [==============================] - 2s 3ms/step - loss: 0.1759 - accuracy: 0.9324 - val_loss: 0.1817 - val_accuracy: 0.9350\n",
            "Epoch 149/200\n",
            "705/705 [==============================] - 2s 3ms/step - loss: 0.1805 - accuracy: 0.9322 - val_loss: 0.1811 - val_accuracy: 0.9346\n",
            "Epoch 150/200\n",
            "705/705 [==============================] - 2s 3ms/step - loss: 0.1705 - accuracy: 0.9362 - val_loss: 0.1813 - val_accuracy: 0.9343\n",
            "Epoch 151/200\n",
            "705/705 [==============================] - 2s 3ms/step - loss: 0.1695 - accuracy: 0.9369 - val_loss: 0.1814 - val_accuracy: 0.9346\n",
            "Epoch 152/200\n",
            "705/705 [==============================] - 2s 3ms/step - loss: 0.1729 - accuracy: 0.9351 - val_loss: 0.1817 - val_accuracy: 0.9351\n",
            "Epoch 153/200\n",
            "705/705 [==============================] - 2s 3ms/step - loss: 0.1683 - accuracy: 0.9370 - val_loss: 0.1809 - val_accuracy: 0.9343\n",
            "Epoch 154/200\n",
            "705/705 [==============================] - 2s 3ms/step - loss: 0.1760 - accuracy: 0.9329 - val_loss: 0.1801 - val_accuracy: 0.9352\n",
            "Epoch 155/200\n",
            "705/705 [==============================] - 2s 3ms/step - loss: 0.1709 - accuracy: 0.9345 - val_loss: 0.1804 - val_accuracy: 0.9359\n",
            "Epoch 156/200\n",
            "705/705 [==============================] - 2s 3ms/step - loss: 0.1708 - accuracy: 0.9366 - val_loss: 0.1833 - val_accuracy: 0.9363\n",
            "Epoch 157/200\n",
            "705/705 [==============================] - 2s 3ms/step - loss: 0.1674 - accuracy: 0.9380 - val_loss: 0.1796 - val_accuracy: 0.9356\n",
            "Epoch 158/200\n",
            "705/705 [==============================] - 2s 3ms/step - loss: 0.1705 - accuracy: 0.9365 - val_loss: 0.1796 - val_accuracy: 0.9352\n",
            "Epoch 159/200\n",
            "705/705 [==============================] - 2s 3ms/step - loss: 0.1696 - accuracy: 0.9343 - val_loss: 0.1801 - val_accuracy: 0.9352\n",
            "Epoch 160/200\n",
            "705/705 [==============================] - 2s 3ms/step - loss: 0.1682 - accuracy: 0.9367 - val_loss: 0.1792 - val_accuracy: 0.9344\n",
            "Epoch 161/200\n",
            "705/705 [==============================] - 2s 3ms/step - loss: 0.1752 - accuracy: 0.9354 - val_loss: 0.1791 - val_accuracy: 0.9353\n",
            "Epoch 162/200\n",
            "705/705 [==============================] - 2s 3ms/step - loss: 0.1641 - accuracy: 0.9367 - val_loss: 0.1787 - val_accuracy: 0.9352\n",
            "Epoch 163/200\n",
            "705/705 [==============================] - 2s 3ms/step - loss: 0.1708 - accuracy: 0.9348 - val_loss: 0.1786 - val_accuracy: 0.9355\n",
            "Epoch 164/200\n",
            "705/705 [==============================] - 2s 3ms/step - loss: 0.1685 - accuracy: 0.9370 - val_loss: 0.1787 - val_accuracy: 0.9361\n",
            "Epoch 165/200\n",
            "705/705 [==============================] - 2s 3ms/step - loss: 0.1710 - accuracy: 0.9366 - val_loss: 0.1795 - val_accuracy: 0.9351\n",
            "Epoch 166/200\n",
            "705/705 [==============================] - 2s 3ms/step - loss: 0.1641 - accuracy: 0.9386 - val_loss: 0.1787 - val_accuracy: 0.9351\n",
            "Epoch 167/200\n",
            "705/705 [==============================] - 2s 3ms/step - loss: 0.1681 - accuracy: 0.9390 - val_loss: 0.1790 - val_accuracy: 0.9347\n",
            "Epoch 168/200\n",
            "705/705 [==============================] - 2s 3ms/step - loss: 0.1732 - accuracy: 0.9335 - val_loss: 0.1787 - val_accuracy: 0.9367\n",
            "Epoch 169/200\n",
            "705/705 [==============================] - 2s 3ms/step - loss: 0.1650 - accuracy: 0.9366 - val_loss: 0.1773 - val_accuracy: 0.9358\n",
            "Epoch 170/200\n",
            "705/705 [==============================] - 2s 3ms/step - loss: 0.1733 - accuracy: 0.9347 - val_loss: 0.1811 - val_accuracy: 0.9363\n",
            "Epoch 171/200\n",
            "705/705 [==============================] - 2s 3ms/step - loss: 0.1747 - accuracy: 0.9344 - val_loss: 0.1790 - val_accuracy: 0.9352\n",
            "Epoch 172/200\n",
            "705/705 [==============================] - 2s 3ms/step - loss: 0.1721 - accuracy: 0.9358 - val_loss: 0.1769 - val_accuracy: 0.9360\n",
            "Epoch 173/200\n",
            "705/705 [==============================] - 2s 3ms/step - loss: 0.1718 - accuracy: 0.9353 - val_loss: 0.1797 - val_accuracy: 0.9353\n",
            "Epoch 174/200\n",
            "705/705 [==============================] - 2s 3ms/step - loss: 0.1707 - accuracy: 0.9341 - val_loss: 0.1768 - val_accuracy: 0.9352\n",
            "Epoch 175/200\n",
            "705/705 [==============================] - 2s 3ms/step - loss: 0.1648 - accuracy: 0.9372 - val_loss: 0.1780 - val_accuracy: 0.9355\n",
            "Epoch 176/200\n",
            "705/705 [==============================] - 2s 3ms/step - loss: 0.1640 - accuracy: 0.9383 - val_loss: 0.1780 - val_accuracy: 0.9338\n",
            "Epoch 177/200\n",
            "705/705 [==============================] - 2s 3ms/step - loss: 0.1703 - accuracy: 0.9361 - val_loss: 0.1765 - val_accuracy: 0.9359\n",
            "Epoch 178/200\n",
            "705/705 [==============================] - 2s 3ms/step - loss: 0.1710 - accuracy: 0.9356 - val_loss: 0.1777 - val_accuracy: 0.9355\n",
            "Epoch 179/200\n",
            "705/705 [==============================] - 2s 3ms/step - loss: 0.1628 - accuracy: 0.9385 - val_loss: 0.1764 - val_accuracy: 0.9362\n",
            "Epoch 180/200\n",
            "705/705 [==============================] - 2s 3ms/step - loss: 0.1639 - accuracy: 0.9378 - val_loss: 0.1761 - val_accuracy: 0.9361\n",
            "Epoch 181/200\n",
            "705/705 [==============================] - 2s 3ms/step - loss: 0.1691 - accuracy: 0.9356 - val_loss: 0.1765 - val_accuracy: 0.9365\n",
            "Epoch 182/200\n",
            "705/705 [==============================] - 2s 3ms/step - loss: 0.1595 - accuracy: 0.9412 - val_loss: 0.1798 - val_accuracy: 0.9349\n",
            "Epoch 183/200\n",
            "705/705 [==============================] - 2s 3ms/step - loss: 0.1674 - accuracy: 0.9360 - val_loss: 0.1753 - val_accuracy: 0.9371\n",
            "Epoch 184/200\n",
            "705/705 [==============================] - 2s 3ms/step - loss: 0.1702 - accuracy: 0.9353 - val_loss: 0.1767 - val_accuracy: 0.9354\n",
            "Epoch 185/200\n",
            "705/705 [==============================] - 2s 3ms/step - loss: 0.1592 - accuracy: 0.9377 - val_loss: 0.1752 - val_accuracy: 0.9366\n",
            "Epoch 186/200\n",
            "705/705 [==============================] - 2s 3ms/step - loss: 0.1671 - accuracy: 0.9365 - val_loss: 0.1776 - val_accuracy: 0.9348\n",
            "Epoch 187/200\n",
            "705/705 [==============================] - 2s 3ms/step - loss: 0.1681 - accuracy: 0.9363 - val_loss: 0.1760 - val_accuracy: 0.9368\n",
            "Epoch 188/200\n",
            "705/705 [==============================] - 2s 3ms/step - loss: 0.1671 - accuracy: 0.9370 - val_loss: 0.1754 - val_accuracy: 0.9368\n",
            "Epoch 189/200\n",
            "705/705 [==============================] - 2s 3ms/step - loss: 0.1666 - accuracy: 0.9378 - val_loss: 0.1750 - val_accuracy: 0.9367\n",
            "Epoch 190/200\n",
            "705/705 [==============================] - 2s 3ms/step - loss: 0.1594 - accuracy: 0.9413 - val_loss: 0.1755 - val_accuracy: 0.9379\n",
            "Epoch 191/200\n",
            "705/705 [==============================] - 2s 3ms/step - loss: 0.1667 - accuracy: 0.9374 - val_loss: 0.1742 - val_accuracy: 0.9361\n",
            "Epoch 192/200\n",
            "705/705 [==============================] - 2s 3ms/step - loss: 0.1673 - accuracy: 0.9362 - val_loss: 0.1748 - val_accuracy: 0.9364\n",
            "Epoch 193/200\n",
            "705/705 [==============================] - 2s 3ms/step - loss: 0.1685 - accuracy: 0.9378 - val_loss: 0.1745 - val_accuracy: 0.9362\n",
            "Epoch 194/200\n",
            "705/705 [==============================] - 2s 3ms/step - loss: 0.1625 - accuracy: 0.9385 - val_loss: 0.1745 - val_accuracy: 0.9363\n",
            "Epoch 195/200\n",
            "705/705 [==============================] - 2s 3ms/step - loss: 0.1615 - accuracy: 0.9382 - val_loss: 0.1746 - val_accuracy: 0.9365\n",
            "Epoch 196/200\n",
            "705/705 [==============================] - 2s 3ms/step - loss: 0.1711 - accuracy: 0.9332 - val_loss: 0.1737 - val_accuracy: 0.9370\n",
            "Epoch 197/200\n",
            "705/705 [==============================] - 2s 3ms/step - loss: 0.1606 - accuracy: 0.9399 - val_loss: 0.1748 - val_accuracy: 0.9361\n",
            "Epoch 198/200\n",
            "705/705 [==============================] - 2s 3ms/step - loss: 0.1636 - accuracy: 0.9377 - val_loss: 0.1749 - val_accuracy: 0.9356\n",
            "Epoch 199/200\n",
            "705/705 [==============================] - 2s 3ms/step - loss: 0.1660 - accuracy: 0.9365 - val_loss: 0.1737 - val_accuracy: 0.9365\n",
            "Epoch 200/200\n",
            "705/705 [==============================] - 2s 3ms/step - loss: 0.1682 - accuracy: 0.9353 - val_loss: 0.1769 - val_accuracy: 0.9354\n",
            "705/705 [==============================] - 1s 2ms/step - loss: 0.1653 - accuracy: 0.9375\n",
            "Train score: [0.16533754765987396, 0.9375332593917847]\n",
            "347/347 [==============================] - 1s 2ms/step - loss: 0.1769 - accuracy: 0.9354\n",
            "Test score: [0.17688527703285217, 0.9354228377342224]\n"
          ],
          "name": "stdout"
        }
      ]
    },
    {
      "cell_type": "code",
      "metadata": {
        "colab": {
          "base_uri": "https://localhost:8080/",
          "height": 283
        },
        "id": "31yp5KCd7TKA",
        "outputId": "0c57d7b5-b66c-4044-b09d-770c8eb837ff"
      },
      "source": [
        "plt.plot(r.history['loss'], label='loss')\n",
        "plt.plot(r.history['val_loss'], label='val_loss')\n",
        "plt.legend()"
      ],
      "execution_count": 29,
      "outputs": [
        {
          "output_type": "execute_result",
          "data": {
            "text/plain": [
              "<matplotlib.legend.Legend at 0x7f52100657d0>"
            ]
          },
          "metadata": {
            "tags": []
          },
          "execution_count": 29
        },
        {
          "output_type": "display_data",
          "data": {
            "image/png": "[encoded data removed]",
            "text/plain": [
              "<Figure size 432x288 with 1 Axes>"
            ]
          },
          "metadata": {
            "tags": [],
            "needs_background": "light"
          }
        }
      ]
    },
    {
      "cell_type": "code",
      "metadata": {
        "colab": {
          "base_uri": "https://localhost:8080/",
          "height": 283
        },
        "id": "g5tdSqRp7TKB",
        "outputId": "9e10f61a-7af9-4f5a-9318-aafe74d339bb"
      },
      "source": [
        "# Plot the accuracy too\n",
        "plt.plot(r.history['accuracy'], label='acc')\n",
        "plt.plot(r.history['val_accuracy'], label='val_acc')\n",
        "plt.legend()"
      ],
      "execution_count": 30,
      "outputs": [
        {
          "output_type": "execute_result",
          "data": {
            "text/plain": [
              "<matplotlib.legend.Legend at 0x7f52100ed9d0>"
            ]
          },
          "metadata": {
            "tags": []
          },
          "execution_count": 30
        },
        {
          "output_type": "display_data",
          "data": {
            "image/png": "[encoded data removed]",
            "text/plain": [
              "<Figure size 432x288 with 1 Axes>"
            ]
          },
          "metadata": {
            "tags": [],
            "needs_background": "light"
          }
        }
      ]
    },
    {
      "cell_type": "code",
      "metadata": {
        "colab": {
          "base_uri": "https://localhost:8080/"
        },
        "id": "7AhT3fRI7TKE",
        "outputId": "e2edd570-4864-45ff-b607-332c283f5e48"
      },
      "source": [
        "model.summary()\n"
      ],
      "execution_count": 31,
      "outputs": [
        {
          "output_type": "stream",
          "text": [
            "Model: \"model_3\"\n",
            "__________________________________________________________________________________________________\n",
            "Layer (type)                    Output Shape         Param #     Connected to                     \n",
            "==================================================================================================\n",
            "Input (InputLayer)              [(None, 17)]         0                                            \n",
            "__________________________________________________________________________________________________\n",
            "tf.__operators__.getitem_8 (Sli (None, 6)            0           Input[0][0]                      \n",
            "__________________________________________________________________________________________________\n",
            "Normalization (LayerNormalizati (None, 6)            12          tf.__operators__.getitem_8[0][0] \n",
            "__________________________________________________________________________________________________\n",
            "tf.__operators__.getitem_9 (Sli (None, 11)           0           Input[0][0]                      \n",
            "__________________________________________________________________________________________________\n",
            "Concatenate (Concatenate)       (None, 17)           0           Normalization[0][0]              \n",
            "                                                                 tf.__operators__.getitem_9[0][0] \n",
            "__________________________________________________________________________________________________\n",
            "dense_4 (Dense)                 (None, 16)           288         Concatenate[0][0]                \n",
            "__________________________________________________________________________________________________\n",
            "Classifier (Dense)              (None, 1)            17          dense_4[0][0]                    \n",
            "==================================================================================================\n",
            "Total params: 317\n",
            "Trainable params: 317\n",
            "Non-trainable params: 0\n",
            "__________________________________________________________________________________________________\n"
          ],
          "name": "stdout"
        }
      ]
    },
    {
      "cell_type": "code",
      "metadata": {
        "colab": {
          "base_uri": "https://localhost:8080/"
        },
        "id": "nuqLpsSI7TKF",
        "outputId": "fe2facfc-7d2c-4876-ab0d-e618090ce907"
      },
      "source": [
        "for z in zip(df_wide.columns.values,model.layers[5].get_weights()[0]):\n",
        "  print(z)\n"
      ],
      "execution_count": null,
      "outputs": [
        {
          "output_type": "stream",
          "text": [
            "('BLUETOOTH_DEVICES', array([0.78467166], dtype=float32))\n",
            "('GPS_FIX_SATELLITES', array([-2.941558], dtype=float32))\n",
            "('GPS_SATELLITES', array([0.3114541], dtype=float32))\n",
            "('TMD3725_Light Ambient Light Sensor Non-wakeup', array([-0.46210802], dtype=float32))\n",
            "('WIFI_ACCESS_POINTS', array([2.3207603], dtype=float32))\n",
            "('IN_VEHICLE', array([-1.6584494], dtype=float32))\n",
            "('ON_BICYCLE', array([-0.40118644], dtype=float32))\n",
            "('ON_FOOT', array([-5.6376424], dtype=float32))\n",
            "('STILL', array([1.7916169], dtype=float32))\n",
            "('UNKOWN', array([1.2244202], dtype=float32))\n",
            "('TILTING', array([0.3653815], dtype=float32))\n",
            "('WALKING', array([-0.27648577], dtype=float32))\n",
            "('RUNNING', array([0.12622678], dtype=float32))\n",
            "('TMD3725_Proximity Proximity Sensor Wakeup', array([0.3069393], dtype=float32))\n"
          ],
          "name": "stdout"
        }
      ]
    },
    {
      "cell_type": "code",
      "metadata": {
        "colab": {
          "base_uri": "https://localhost:8080/",
          "height": 357
        },
        "id": "Y6r8HizYn7ea",
        "outputId": "8bd6477e-b274-4165-b5a9-499b6d897af7"
      },
      "source": [
        "tf.keras.utils.plot_model(model,show_shapes=True,show_dtype=True, show_layer_names=True, expand_nested=True)"
      ],
      "execution_count": 32,
      "outputs": [
        {
          "output_type": "execute_result",
          "data": {
            "image/png": "[encoded data removed]",
            "text/plain": [
              "<IPython.core.display.Image object>"
            ]
          },
          "metadata": {
            "tags": []
          },
          "execution_count": 32
        }
      ]
    },
    {
      "cell_type": "code",
      "metadata": {
        "colab": {
          "base_uri": "https://localhost:8080/"
        },
        "id": "eQ_Yb_XzdSxW",
        "outputId": "ddd395be-a483-4337-8d97-1f9fa33fe129"
      },
      "source": [
        "!pip install shap"
      ],
      "execution_count": 35,
      "outputs": [
        {
          "output_type": "stream",
          "text": [
            "Collecting shap\n",
            "\u001b[?25l  Downloading https://files.pythonhosted.org/packages/b9/f4/c5b95cddae15be80f8e58b25edceca105aa83c0b8c86a1edad24a6af80d3/shap-0.39.0.tar.gz (356kB)\n",
            "\r\u001b[K     |█                               | 10kB 20.9MB/s eta 0:00:01\r\u001b[K     |█▉                              | 20kB 27.6MB/s eta 0:00:01\r\u001b[K     |██▊                             | 30kB 22.3MB/s eta 0:00:01\r\u001b[K     |███▊                            | 40kB 17.3MB/s eta 0:00:01\r\u001b[K     |████▋                           | 51kB 8.5MB/s eta 0:00:01\r\u001b[K     |█████▌                          | 61kB 7.8MB/s eta 0:00:01\r\u001b[K     |██████▍                         | 71kB 8.8MB/s eta 0:00:01\r\u001b[K     |███████▍                        | 81kB 9.7MB/s eta 0:00:01\r\u001b[K     |████████▎                       | 92kB 10.3MB/s eta 0:00:01\r\u001b[K     |█████████▏                      | 102kB 8.2MB/s eta 0:00:01\r\u001b[K     |██████████▏                     | 112kB 8.2MB/s eta 0:00:01\r\u001b[K     |███████████                     | 122kB 8.2MB/s eta 0:00:01\r\u001b[K     |████████████                    | 133kB 8.2MB/s eta 0:00:01\r\u001b[K     |████████████▉                   | 143kB 8.2MB/s eta 0:00:01\r\u001b[K     |█████████████▉                  | 153kB 8.2MB/s eta 0:00:01\r\u001b[K     |██████████████▊                 | 163kB 8.2MB/s eta 0:00:01\r\u001b[K     |███████████████▋                | 174kB 8.2MB/s eta 0:00:01\r\u001b[K     |████████████████▋               | 184kB 8.2MB/s eta 0:00:01\r\u001b[K     |█████████████████▌              | 194kB 8.2MB/s eta 0:00:01\r\u001b[K     |██████████████████▍             | 204kB 8.2MB/s eta 0:00:01\r\u001b[K     |███████████████████▎            | 215kB 8.2MB/s eta 0:00:01\r\u001b[K     |████████████████████▎           | 225kB 8.2MB/s eta 0:00:01\r\u001b[K     |█████████████████████▏          | 235kB 8.2MB/s eta 0:00:01\r\u001b[K     |██████████████████████          | 245kB 8.2MB/s eta 0:00:01\r\u001b[K     |███████████████████████         | 256kB 8.2MB/s eta 0:00:01\r\u001b[K     |████████████████████████        | 266kB 8.2MB/s eta 0:00:01\r\u001b[K     |████████████████████████▉       | 276kB 8.2MB/s eta 0:00:01\r\u001b[K     |█████████████████████████▊      | 286kB 8.2MB/s eta 0:00:01\r\u001b[K     |██████████████████████████▊     | 296kB 8.2MB/s eta 0:00:01\r\u001b[K     |███████████████████████████▋    | 307kB 8.2MB/s eta 0:00:01\r\u001b[K     |████████████████████████████▌   | 317kB 8.2MB/s eta 0:00:01\r\u001b[K     |█████████████████████████████▍  | 327kB 8.2MB/s eta 0:00:01\r\u001b[K     |██████████████████████████████▍ | 337kB 8.2MB/s eta 0:00:01\r\u001b[K     |███████████████████████████████▎| 348kB 8.2MB/s eta 0:00:01\r\u001b[K     |████████████████████████████████| 358kB 8.2MB/s \n",
            "\u001b[?25hRequirement already satisfied: numpy in /usr/local/lib/python3.7/dist-packages (from shap) (1.19.5)\n",
            "Requirement already satisfied: scipy in /usr/local/lib/python3.7/dist-packages (from shap) (1.4.1)\n",
            "Requirement already satisfied: scikit-learn in /usr/local/lib/python3.7/dist-packages (from shap) (0.22.2.post1)\n",
            "Requirement already satisfied: pandas in /usr/local/lib/python3.7/dist-packages (from shap) (1.1.5)\n",
            "Requirement already satisfied: tqdm>4.25.0 in /usr/local/lib/python3.7/dist-packages (from shap) (4.41.1)\n",
            "Collecting slicer==0.0.7\n",
            "  Downloading https://files.pythonhosted.org/packages/78/c2/b3f55dfdb8af9812fdb9baf70cacf3b9e82e505b2bd4324d588888b81202/slicer-0.0.7-py3-none-any.whl\n",
            "Requirement already satisfied: numba in /usr/local/lib/python3.7/dist-packages (from shap) (0.51.2)\n",
            "Requirement already satisfied: cloudpickle in /usr/local/lib/python3.7/dist-packages (from shap) (1.3.0)\n",
            "Requirement already satisfied: joblib>=0.11 in /usr/local/lib/python3.7/dist-packages (from scikit-learn->shap) (1.0.1)\n",
            "Requirement already satisfied: python-dateutil>=2.7.3 in /usr/local/lib/python3.7/dist-packages (from pandas->shap) (2.8.1)\n",
            "Requirement already satisfied: pytz>=2017.2 in /usr/local/lib/python3.7/dist-packages (from pandas->shap) (2018.9)\n",
            "Requirement already satisfied: setuptools in /usr/local/lib/python3.7/dist-packages (from numba->shap) (56.1.0)\n",
            "Requirement already satisfied: llvmlite<0.35,>=0.34.0.dev0 in /usr/local/lib/python3.7/dist-packages (from numba->shap) (0.34.0)\n",
            "Requirement already satisfied: six>=1.5 in /usr/local/lib/python3.7/dist-packages (from python-dateutil>=2.7.3->pandas->shap) (1.15.0)\n",
            "Building wheels for collected packages: shap\n",
            "  Building wheel for shap (setup.py) ... \u001b[?25l\u001b[?25hdone\n",
            "  Created wheel for shap: filename=shap-0.39.0-cp37-cp37m-linux_x86_64.whl size=491622 sha256=9ce2ec94680da25be63d446cacaad1163874389635dd4daa845298df5757a2c9\n",
            "  Stored in directory: /root/.cache/pip/wheels/15/27/f5/a8ab9da52fd159aae6477b5ede6eaaec69fd130fa0fa59f283\n",
            "Successfully built shap\n",
            "Installing collected packages: slicer, shap\n",
            "Successfully installed shap-0.39.0 slicer-0.0.7\n"
          ],
          "name": "stdout"
        }
      ]
    },
    {
      "cell_type": "code",
      "metadata": {
        "id": "x7QaDyYeaizR",
        "colab": {
          "base_uri": "https://localhost:8080/",
          "height": 427,
          "referenced_widgets": [
            "a59d8ce9ac0d4d70b436db69d6d7c6d0",
            "c7c7242718544d509de463faa863f700",
            "2daaec9114f8445594b25f938a7ca62e",
            "be73547eebfa4670a3503381353b7128",
            "fe48ab76bb604072bd57c6e12356033d",
            "e3e7c70818594b2c8cacd3e0e23fbc69",
            "eebe8431efb644b48c98dec91cdeb625",
            "c23d7fa9948b402dabd5b3294e69e727"
          ]
        },
        "outputId": "8028964d-c41f-4640-f14b-e5bb16594d07"
      },
      "source": [
        "import shap\n",
        "# KernelExplainer is a general approach that can work with any ML framework\n",
        "# Its inputs are the predictions and training data\n",
        "\n",
        "# Summarize the training set to accelerate analysis\n",
        "df_train_normed_summary = shap.kmeans(X_train, 25)\n",
        "\n",
        "# Instantiate an explainer with the model predictions and training data summary\n",
        "explainer = shap.KernelExplainer(model.predict, df_train_normed_summary)\n",
        "\n",
        "# Extract Shapley values from the explainer\n",
        "shap_values = explainer.shap_values(X_train)"
      ],
      "execution_count": 36,
      "outputs": [
        {
          "output_type": "display_data",
          "data": {
            "application/vnd.jupyter.widget-view+json": {
              "model_id": "a59d8ce9ac0d4d70b436db69d6d7c6d0",
              "version_minor": 0,
              "version_major": 2
            },
            "text/plain": [
              "HBox(children=(FloatProgress(value=0.0, max=22540.0), HTML(value='')))"
            ]
          },
          "metadata": {
            "tags": []
          }
        },
        {
          "output_type": "error",
          "ename": "KeyboardInterrupt",
          "evalue": "ignored",
          "traceback": [
            "\u001b[0;31m---------------------------------------------------------------------------\u001b[0m",
            "\u001b[0;31mKeyboardInterrupt\u001b[0m                         Traceback (most recent call last)",
            "\u001b[0;32m<ipython-input-36-976117797fd9>\u001b[0m in \u001b[0;36m<module>\u001b[0;34m()\u001b[0m\n\u001b[1;32m     10\u001b[0m \u001b[0;34m\u001b[0m\u001b[0m\n\u001b[1;32m     11\u001b[0m \u001b[0;31m# Extract Shapley values from the explainer\u001b[0m\u001b[0;34m\u001b[0m\u001b[0;34m\u001b[0m\u001b[0;34m\u001b[0m\u001b[0m\n\u001b[0;32m---> 12\u001b[0;31m \u001b[0mshap_values\u001b[0m \u001b[0;34m=\u001b[0m \u001b[0mexplainer\u001b[0m\u001b[0;34m.\u001b[0m\u001b[0mshap_values\u001b[0m\u001b[0;34m(\u001b[0m\u001b[0mX_train\u001b[0m\u001b[0;34m)\u001b[0m\u001b[0;34m\u001b[0m\u001b[0;34m\u001b[0m\u001b[0m\n\u001b[0m",
            "\u001b[0;32m/usr/local/lib/python3.7/dist-packages/shap/explainers/_kernel.py\u001b[0m in \u001b[0;36mshap_values\u001b[0;34m(self, X, **kwargs)\u001b[0m\n\u001b[1;32m    184\u001b[0m                 \u001b[0;32mif\u001b[0m \u001b[0mself\u001b[0m\u001b[0;34m.\u001b[0m\u001b[0mkeep_index\u001b[0m\u001b[0;34m:\u001b[0m\u001b[0;34m\u001b[0m\u001b[0;34m\u001b[0m\u001b[0m\n\u001b[1;32m    185\u001b[0m                     \u001b[0mdata\u001b[0m \u001b[0;34m=\u001b[0m \u001b[0mconvert_to_instance_with_index\u001b[0m\u001b[0;34m(\u001b[0m\u001b[0mdata\u001b[0m\u001b[0;34m,\u001b[0m \u001b[0mcolumn_name\u001b[0m\u001b[0;34m,\u001b[0m \u001b[0mindex_value\u001b[0m\u001b[0;34m[\u001b[0m\u001b[0mi\u001b[0m\u001b[0;34m:\u001b[0m\u001b[0mi\u001b[0m \u001b[0;34m+\u001b[0m \u001b[0;36m1\u001b[0m\u001b[0;34m]\u001b[0m\u001b[0;34m,\u001b[0m \u001b[0mindex_name\u001b[0m\u001b[0;34m)\u001b[0m\u001b[0;34m\u001b[0m\u001b[0;34m\u001b[0m\u001b[0m\n\u001b[0;32m--> 186\u001b[0;31m                 \u001b[0mexplanations\u001b[0m\u001b[0;34m.\u001b[0m\u001b[0mappend\u001b[0m\u001b[0;34m(\u001b[0m\u001b[0mself\u001b[0m\u001b[0;34m.\u001b[0m\u001b[0mexplain\u001b[0m\u001b[0;34m(\u001b[0m\u001b[0mdata\u001b[0m\u001b[0;34m,\u001b[0m \u001b[0;34m**\u001b[0m\u001b[0mkwargs\u001b[0m\u001b[0;34m)\u001b[0m\u001b[0;34m)\u001b[0m\u001b[0;34m\u001b[0m\u001b[0;34m\u001b[0m\u001b[0m\n\u001b[0m\u001b[1;32m    187\u001b[0m \u001b[0;34m\u001b[0m\u001b[0m\n\u001b[1;32m    188\u001b[0m             \u001b[0;31m# vector-output\u001b[0m\u001b[0;34m\u001b[0m\u001b[0;34m\u001b[0m\u001b[0;34m\u001b[0m\u001b[0m\n",
            "\u001b[0;32m/usr/local/lib/python3.7/dist-packages/shap/explainers/_kernel.py\u001b[0m in \u001b[0;36mexplain\u001b[0;34m(self, incoming_instance, **kwargs)\u001b[0m\n\u001b[1;32m    374\u001b[0m \u001b[0;34m\u001b[0m\u001b[0m\n\u001b[1;32m    375\u001b[0m             \u001b[0;31m# execute the model on the synthetic samples we have created\u001b[0m\u001b[0;34m\u001b[0m\u001b[0;34m\u001b[0m\u001b[0;34m\u001b[0m\u001b[0m\n\u001b[0;32m--> 376\u001b[0;31m             \u001b[0mself\u001b[0m\u001b[0;34m.\u001b[0m\u001b[0mrun\u001b[0m\u001b[0;34m(\u001b[0m\u001b[0;34m)\u001b[0m\u001b[0;34m\u001b[0m\u001b[0;34m\u001b[0m\u001b[0m\n\u001b[0m\u001b[1;32m    377\u001b[0m \u001b[0;34m\u001b[0m\u001b[0m\n\u001b[1;32m    378\u001b[0m             \u001b[0;31m# solve then expand the feature importance (Shapley value) vector to contain the non-varying features\u001b[0m\u001b[0;34m\u001b[0m\u001b[0;34m\u001b[0m\u001b[0;34m\u001b[0m\u001b[0m\n",
            "\u001b[0;32m/usr/local/lib/python3.7/dist-packages/shap/explainers/_kernel.py\u001b[0m in \u001b[0;36mrun\u001b[0;34m(self)\u001b[0m\n\u001b[1;32m    511\u001b[0m             \u001b[0;32mif\u001b[0m \u001b[0mself\u001b[0m\u001b[0;34m.\u001b[0m\u001b[0mkeep_index_ordered\u001b[0m\u001b[0;34m:\u001b[0m\u001b[0;34m\u001b[0m\u001b[0;34m\u001b[0m\u001b[0m\n\u001b[1;32m    512\u001b[0m                 \u001b[0mdata\u001b[0m \u001b[0;34m=\u001b[0m \u001b[0mdata\u001b[0m\u001b[0;34m.\u001b[0m\u001b[0msort_index\u001b[0m\u001b[0;34m(\u001b[0m\u001b[0;34m)\u001b[0m\u001b[0;34m\u001b[0m\u001b[0;34m\u001b[0m\u001b[0m\n\u001b[0;32m--> 513\u001b[0;31m         \u001b[0mmodelOut\u001b[0m \u001b[0;34m=\u001b[0m \u001b[0mself\u001b[0m\u001b[0;34m.\u001b[0m\u001b[0mmodel\u001b[0m\u001b[0;34m.\u001b[0m\u001b[0mf\u001b[0m\u001b[0;34m(\u001b[0m\u001b[0mdata\u001b[0m\u001b[0;34m)\u001b[0m\u001b[0;34m\u001b[0m\u001b[0;34m\u001b[0m\u001b[0m\n\u001b[0m\u001b[1;32m    514\u001b[0m         \u001b[0;32mif\u001b[0m \u001b[0misinstance\u001b[0m\u001b[0;34m(\u001b[0m\u001b[0mmodelOut\u001b[0m\u001b[0;34m,\u001b[0m \u001b[0;34m(\u001b[0m\u001b[0mpd\u001b[0m\u001b[0;34m.\u001b[0m\u001b[0mDataFrame\u001b[0m\u001b[0;34m,\u001b[0m \u001b[0mpd\u001b[0m\u001b[0;34m.\u001b[0m\u001b[0mSeries\u001b[0m\u001b[0;34m)\u001b[0m\u001b[0;34m)\u001b[0m\u001b[0;34m:\u001b[0m\u001b[0;34m\u001b[0m\u001b[0;34m\u001b[0m\u001b[0m\n\u001b[1;32m    515\u001b[0m             \u001b[0mmodelOut\u001b[0m \u001b[0;34m=\u001b[0m \u001b[0mmodelOut\u001b[0m\u001b[0;34m.\u001b[0m\u001b[0mvalues\u001b[0m\u001b[0;34m\u001b[0m\u001b[0;34m\u001b[0m\u001b[0m\n",
            "\u001b[0;32m/usr/local/lib/python3.7/dist-packages/tensorflow/python/keras/engine/training.py\u001b[0m in \u001b[0;36mpredict\u001b[0;34m(self, x, batch_size, verbose, steps, callbacks, max_queue_size, workers, use_multiprocessing)\u001b[0m\n\u001b[1;32m   1627\u001b[0m           \u001b[0;32mfor\u001b[0m \u001b[0mstep\u001b[0m \u001b[0;32min\u001b[0m \u001b[0mdata_handler\u001b[0m\u001b[0;34m.\u001b[0m\u001b[0msteps\u001b[0m\u001b[0;34m(\u001b[0m\u001b[0;34m)\u001b[0m\u001b[0;34m:\u001b[0m\u001b[0;34m\u001b[0m\u001b[0;34m\u001b[0m\u001b[0m\n\u001b[1;32m   1628\u001b[0m             \u001b[0mcallbacks\u001b[0m\u001b[0;34m.\u001b[0m\u001b[0mon_predict_batch_begin\u001b[0m\u001b[0;34m(\u001b[0m\u001b[0mstep\u001b[0m\u001b[0;34m)\u001b[0m\u001b[0;34m\u001b[0m\u001b[0;34m\u001b[0m\u001b[0m\n\u001b[0;32m-> 1629\u001b[0;31m             \u001b[0mtmp_batch_outputs\u001b[0m \u001b[0;34m=\u001b[0m \u001b[0mself\u001b[0m\u001b[0;34m.\u001b[0m\u001b[0mpredict_function\u001b[0m\u001b[0;34m(\u001b[0m\u001b[0miterator\u001b[0m\u001b[0;34m)\u001b[0m\u001b[0;34m\u001b[0m\u001b[0;34m\u001b[0m\u001b[0m\n\u001b[0m\u001b[1;32m   1630\u001b[0m             \u001b[0;32mif\u001b[0m \u001b[0mdata_handler\u001b[0m\u001b[0;34m.\u001b[0m\u001b[0mshould_sync\u001b[0m\u001b[0;34m:\u001b[0m\u001b[0;34m\u001b[0m\u001b[0;34m\u001b[0m\u001b[0m\n\u001b[1;32m   1631\u001b[0m               \u001b[0mcontext\u001b[0m\u001b[0;34m.\u001b[0m\u001b[0masync_wait\u001b[0m\u001b[0;34m(\u001b[0m\u001b[0;34m)\u001b[0m\u001b[0;34m\u001b[0m\u001b[0;34m\u001b[0m\u001b[0m\n",
            "\u001b[0;32m/usr/local/lib/python3.7/dist-packages/tensorflow/python/eager/def_function.py\u001b[0m in \u001b[0;36m__call__\u001b[0;34m(self, *args, **kwds)\u001b[0m\n\u001b[1;32m    826\u001b[0m     \u001b[0mtracing_count\u001b[0m \u001b[0;34m=\u001b[0m \u001b[0mself\u001b[0m\u001b[0;34m.\u001b[0m\u001b[0mexperimental_get_tracing_count\u001b[0m\u001b[0;34m(\u001b[0m\u001b[0;34m)\u001b[0m\u001b[0;34m\u001b[0m\u001b[0;34m\u001b[0m\u001b[0m\n\u001b[1;32m    827\u001b[0m     \u001b[0;32mwith\u001b[0m \u001b[0mtrace\u001b[0m\u001b[0;34m.\u001b[0m\u001b[0mTrace\u001b[0m\u001b[0;34m(\u001b[0m\u001b[0mself\u001b[0m\u001b[0;34m.\u001b[0m\u001b[0m_name\u001b[0m\u001b[0;34m)\u001b[0m \u001b[0;32mas\u001b[0m \u001b[0mtm\u001b[0m\u001b[0;34m:\u001b[0m\u001b[0;34m\u001b[0m\u001b[0;34m\u001b[0m\u001b[0m\n\u001b[0;32m--> 828\u001b[0;31m       \u001b[0mresult\u001b[0m \u001b[0;34m=\u001b[0m \u001b[0mself\u001b[0m\u001b[0;34m.\u001b[0m\u001b[0m_call\u001b[0m\u001b[0;34m(\u001b[0m\u001b[0;34m*\u001b[0m\u001b[0margs\u001b[0m\u001b[0;34m,\u001b[0m \u001b[0;34m**\u001b[0m\u001b[0mkwds\u001b[0m\u001b[0;34m)\u001b[0m\u001b[0;34m\u001b[0m\u001b[0;34m\u001b[0m\u001b[0m\n\u001b[0m\u001b[1;32m    829\u001b[0m       \u001b[0mcompiler\u001b[0m \u001b[0;34m=\u001b[0m \u001b[0;34m\"xla\"\u001b[0m \u001b[0;32mif\u001b[0m \u001b[0mself\u001b[0m\u001b[0;34m.\u001b[0m\u001b[0m_experimental_compile\u001b[0m \u001b[0;32melse\u001b[0m \u001b[0;34m\"nonXla\"\u001b[0m\u001b[0;34m\u001b[0m\u001b[0;34m\u001b[0m\u001b[0m\n\u001b[1;32m    830\u001b[0m       \u001b[0mnew_tracing_count\u001b[0m \u001b[0;34m=\u001b[0m \u001b[0mself\u001b[0m\u001b[0;34m.\u001b[0m\u001b[0mexperimental_get_tracing_count\u001b[0m\u001b[0;34m(\u001b[0m\u001b[0;34m)\u001b[0m\u001b[0;34m\u001b[0m\u001b[0;34m\u001b[0m\u001b[0m\n",
            "\u001b[0;32m/usr/local/lib/python3.7/dist-packages/tensorflow/python/eager/def_function.py\u001b[0m in \u001b[0;36m_call\u001b[0;34m(self, *args, **kwds)\u001b[0m\n\u001b[1;32m    860\u001b[0m       \u001b[0;31m# In this case we have not created variables on the first call. So we can\u001b[0m\u001b[0;34m\u001b[0m\u001b[0;34m\u001b[0m\u001b[0;34m\u001b[0m\u001b[0m\n\u001b[1;32m    861\u001b[0m       \u001b[0;31m# run the first trace but we should fail if variables are created.\u001b[0m\u001b[0;34m\u001b[0m\u001b[0;34m\u001b[0m\u001b[0;34m\u001b[0m\u001b[0m\n\u001b[0;32m--> 862\u001b[0;31m       \u001b[0mresults\u001b[0m \u001b[0;34m=\u001b[0m \u001b[0mself\u001b[0m\u001b[0;34m.\u001b[0m\u001b[0m_stateful_fn\u001b[0m\u001b[0;34m(\u001b[0m\u001b[0;34m*\u001b[0m\u001b[0margs\u001b[0m\u001b[0;34m,\u001b[0m \u001b[0;34m**\u001b[0m\u001b[0mkwds\u001b[0m\u001b[0;34m)\u001b[0m\u001b[0;34m\u001b[0m\u001b[0;34m\u001b[0m\u001b[0m\n\u001b[0m\u001b[1;32m    863\u001b[0m       \u001b[0;32mif\u001b[0m \u001b[0mself\u001b[0m\u001b[0;34m.\u001b[0m\u001b[0m_created_variables\u001b[0m\u001b[0;34m:\u001b[0m\u001b[0;34m\u001b[0m\u001b[0;34m\u001b[0m\u001b[0m\n\u001b[1;32m    864\u001b[0m         raise ValueError(\"Creating variables on a non-first call to a function\"\n",
            "\u001b[0;32m/usr/local/lib/python3.7/dist-packages/tensorflow/python/eager/function.py\u001b[0m in \u001b[0;36m__call__\u001b[0;34m(self, *args, **kwargs)\u001b[0m\n\u001b[1;32m   2941\u001b[0m        filtered_flat_args) = self._maybe_define_function(args, kwargs)\n\u001b[1;32m   2942\u001b[0m     return graph_function._call_flat(\n\u001b[0;32m-> 2943\u001b[0;31m         filtered_flat_args, captured_inputs=graph_function.captured_inputs)  # pylint: disable=protected-access\n\u001b[0m\u001b[1;32m   2944\u001b[0m \u001b[0;34m\u001b[0m\u001b[0m\n\u001b[1;32m   2945\u001b[0m   \u001b[0;34m@\u001b[0m\u001b[0mproperty\u001b[0m\u001b[0;34m\u001b[0m\u001b[0;34m\u001b[0m\u001b[0m\n",
            "\u001b[0;32m/usr/local/lib/python3.7/dist-packages/tensorflow/python/eager/function.py\u001b[0m in \u001b[0;36m_call_flat\u001b[0;34m(self, args, captured_inputs, cancellation_manager)\u001b[0m\n\u001b[1;32m   1917\u001b[0m       \u001b[0;31m# No tape is watching; skip to running the function.\u001b[0m\u001b[0;34m\u001b[0m\u001b[0;34m\u001b[0m\u001b[0;34m\u001b[0m\u001b[0m\n\u001b[1;32m   1918\u001b[0m       return self._build_call_outputs(self._inference_function.call(\n\u001b[0;32m-> 1919\u001b[0;31m           ctx, args, cancellation_manager=cancellation_manager))\n\u001b[0m\u001b[1;32m   1920\u001b[0m     forward_backward = self._select_forward_and_backward_functions(\n\u001b[1;32m   1921\u001b[0m         \u001b[0margs\u001b[0m\u001b[0;34m,\u001b[0m\u001b[0;34m\u001b[0m\u001b[0;34m\u001b[0m\u001b[0m\n",
            "\u001b[0;32m/usr/local/lib/python3.7/dist-packages/tensorflow/python/eager/function.py\u001b[0m in \u001b[0;36mcall\u001b[0;34m(self, ctx, args, cancellation_manager)\u001b[0m\n\u001b[1;32m    558\u001b[0m               \u001b[0minputs\u001b[0m\u001b[0;34m=\u001b[0m\u001b[0margs\u001b[0m\u001b[0;34m,\u001b[0m\u001b[0;34m\u001b[0m\u001b[0;34m\u001b[0m\u001b[0m\n\u001b[1;32m    559\u001b[0m               \u001b[0mattrs\u001b[0m\u001b[0;34m=\u001b[0m\u001b[0mattrs\u001b[0m\u001b[0;34m,\u001b[0m\u001b[0;34m\u001b[0m\u001b[0;34m\u001b[0m\u001b[0m\n\u001b[0;32m--> 560\u001b[0;31m               ctx=ctx)\n\u001b[0m\u001b[1;32m    561\u001b[0m         \u001b[0;32melse\u001b[0m\u001b[0;34m:\u001b[0m\u001b[0;34m\u001b[0m\u001b[0;34m\u001b[0m\u001b[0m\n\u001b[1;32m    562\u001b[0m           outputs = execute.execute_with_cancellation(\n",
            "\u001b[0;32m/usr/local/lib/python3.7/dist-packages/tensorflow/python/eager/execute.py\u001b[0m in \u001b[0;36mquick_execute\u001b[0;34m(op_name, num_outputs, inputs, attrs, ctx, name)\u001b[0m\n\u001b[1;32m     58\u001b[0m     \u001b[0mctx\u001b[0m\u001b[0;34m.\u001b[0m\u001b[0mensure_initialized\u001b[0m\u001b[0;34m(\u001b[0m\u001b[0;34m)\u001b[0m\u001b[0;34m\u001b[0m\u001b[0;34m\u001b[0m\u001b[0m\n\u001b[1;32m     59\u001b[0m     tensors = pywrap_tfe.TFE_Py_Execute(ctx._handle, device_name, op_name,\n\u001b[0;32m---> 60\u001b[0;31m                                         inputs, attrs, num_outputs)\n\u001b[0m\u001b[1;32m     61\u001b[0m   \u001b[0;32mexcept\u001b[0m \u001b[0mcore\u001b[0m\u001b[0;34m.\u001b[0m\u001b[0m_NotOkStatusException\u001b[0m \u001b[0;32mas\u001b[0m \u001b[0me\u001b[0m\u001b[0;34m:\u001b[0m\u001b[0;34m\u001b[0m\u001b[0;34m\u001b[0m\u001b[0m\n\u001b[1;32m     62\u001b[0m     \u001b[0;32mif\u001b[0m \u001b[0mname\u001b[0m \u001b[0;32mis\u001b[0m \u001b[0;32mnot\u001b[0m \u001b[0;32mNone\u001b[0m\u001b[0;34m:\u001b[0m\u001b[0;34m\u001b[0m\u001b[0;34m\u001b[0m\u001b[0m\n",
            "\u001b[0;31mKeyboardInterrupt\u001b[0m: "
          ]
        }
      ]
    },
    {
      "cell_type": "code",
      "metadata": {
        "colab": {
          "base_uri": "https://localhost:8080/"
        },
        "id": "X7ZinaLng8JB",
        "outputId": "7aa6d81f-c6ca-480a-c6ce-3eda18749277"
      },
      "source": [
        "tf.saved_model.save(model, \"saved_model_keras_dir\")\n",
        "\n",
        "converter.target_ops = [tf.lite.OpsSet.TFLITE_BUILTINS, tf.lite.OpsSet.SELECT_TF_OPS]\n",
        "converter.allow_custom_ops=True\n",
        "converter.experimental_new_converter =True\n",
        "tflite_model = converter.convert()\n",
        "\n",
        "# Save the model.\n",
        "with open('model.tflite', 'wb') as f:\n",
        "  f.write(tflite_model)\n"
      ],
      "execution_count": 38,
      "outputs": [
        {
          "output_type": "stream",
          "text": [
            "INFO:tensorflow:Assets written to: saved_model_keras_dir/assets\n"
          ],
          "name": "stdout"
        },
        {
          "output_type": "stream",
          "text": [
            "INFO:tensorflow:Assets written to: saved_model_keras_dir/assets\n"
          ],
          "name": "stderr"
        },
        {
          "output_type": "stream",
          "text": [
            "INFO:tensorflow:Assets written to: /tmp/tmpe660b2c8/assets\n"
          ],
          "name": "stdout"
        },
        {
          "output_type": "stream",
          "text": [
            "INFO:tensorflow:Assets written to: /tmp/tmpe660b2c8/assets\n"
          ],
          "name": "stderr"
        }
      ]
    },
    {
      "cell_type": "code",
      "metadata": {
        "id": "bZOONcuKd6mL"
      },
      "source": [
        "shap.summary_plot(shap_values[0], df_train)"
      ],
      "execution_count": null,
      "outputs": []
    }
  ]
}