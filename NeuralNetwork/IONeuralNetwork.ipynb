{
  "nbformat": 4,
  "nbformat_minor": 0,
  "metadata": {
    "colab": {
      "name": "IONeuralNetwork.ipynb",
      "provenance": [],
      "collapsed_sections": []
    },
    "kernelspec": {
      "display_name": "Python 3",
      "language": "python",
      "name": "python3"
    },
    "language_info": {
      "codemirror_mode": {
        "name": "ipython",
        "version": 3
      },
      "file_extension": ".py",
      "mimetype": "text/x-python",
      "name": "python",
      "nbconvert_exporter": "python",
      "pygments_lexer": "ipython3",
      "version": "3.9.0"
    }
  },
  "cells": [
    {
      "cell_type": "code",
      "metadata": {
        "id": "f7L5rGCIs3sc"
      },
      "source": [
        "import os\n",
        "import math\n",
        "import pandas as pd\n",
        "import numpy as np\n",
        "import matplotlib.pyplot as plt\n",
        "from itertools import product, chain, combinations\n",
        "from scipy import stats\n",
        "from IPython.display import display, HTML\n",
        "%matplotlib inline"
      ],
      "execution_count": 3,
      "outputs": []
    },
    {
      "cell_type": "code",
      "metadata": {
        "id": "AqjESA2vvfVX"
      },
      "source": [
        "inputFile = 'preprocessed_data.csv'"
      ],
      "execution_count": 4,
      "outputs": []
    },
    {
      "cell_type": "code",
      "metadata": {
        "colab": {
          "base_uri": "https://localhost:8080/",
          "height": 194
        },
        "id": "vavlJNcKR3nx",
        "outputId": "ab446136-e18a-49eb-9dd0-bb536d709fdf"
      },
      "source": [
        "from google.colab import drive\n",
        "drive.mount('/content/drive')"
      ],
      "execution_count": 2,
      "outputs": [
        {
          "output_type": "error",
          "ename": "AttributeError",
          "evalue": "ignored",
          "traceback": [
            "\u001b[0;31m---------------------------------------------------------------------------\u001b[0m",
            "\u001b[0;31mAttributeError\u001b[0m                            Traceback (most recent call last)",
            "\u001b[0;32m<ipython-input-2-aeea469676cd>\u001b[0m in \u001b[0;36m<module>\u001b[0;34m()\u001b[0m\n\u001b[1;32m      1\u001b[0m \u001b[0;32mfrom\u001b[0m \u001b[0mgoogle\u001b[0m\u001b[0;34m.\u001b[0m\u001b[0mcolab\u001b[0m \u001b[0;32mimport\u001b[0m \u001b[0mdrive\u001b[0m\u001b[0;34m\u001b[0m\u001b[0;34m\u001b[0m\u001b[0m\n\u001b[0;32m----> 2\u001b[0;31m \u001b[0mdrive\u001b[0m\u001b[0;34m.\u001b[0m\u001b[0munmount\u001b[0m\u001b[0;34m(\u001b[0m\u001b[0;34m'/content/drive'\u001b[0m\u001b[0;34m)\u001b[0m\u001b[0;34m\u001b[0m\u001b[0;34m\u001b[0m\u001b[0m\n\u001b[0m",
            "\u001b[0;31mAttributeError\u001b[0m: module 'google.colab.drive' has no attribute 'unmount'"
          ]
        }
      ]
    },
    {
      "cell_type": "code",
      "metadata": {
        "id": "LY4PBKuhviNX"
      },
      "source": [
        "df = pd.read_csv(inputFile)\n",
        "del df['FileName']\n",
        "del df['timestamp']\n",
        "target = df.loc[:,'INDOOR'].to_numpy()\n",
        "del df['INDOOR']"
      ],
      "execution_count": 5,
      "outputs": []
    },
    {
      "cell_type": "code",
      "metadata": {
        "colab": {
          "base_uri": "https://localhost:8080/",
          "height": 387
        },
        "id": "D40ClWDpcLeV",
        "outputId": "8534aac6-b879-49ff-dcd8-307f246a3b54"
      },
      "source": [
        "import seaborn as sns\n",
        "corr = df.corr()\n",
        "sns.heatmap(corr)"
      ],
      "execution_count": 6,
      "outputs": [
        {
          "output_type": "execute_result",
          "data": {
            "text/plain": [
              "<matplotlib.axes._subplots.AxesSubplot at 0x7f8483da0590>"
            ]
          },
          "metadata": {
            "tags": []
          },
          "execution_count": 6
        },
        {
          "output_type": "display_data",
          "data": {
            "image/png": "[encoded data removed]",
            "text/plain": [
              "<Figure size 432x288 with 2 Axes>"
            ]
          },
          "metadata": {
            "tags": [],
            "needs_background": "light"
          }
        }
      ]
    },
    {
      "cell_type": "code",
      "metadata": {
        "colab": {
          "base_uri": "https://localhost:8080/"
        },
        "id": "eSazBHS27TJ2",
        "outputId": "0c86d7e0-b4ea-4312-9830-af79238185c8"
      },
      "source": [
        "import tensorflow as tf\n",
        "from sklearn.model_selection import train_test_split\n",
        "X_train, X_test, y_train, y_test = train_test_split(df.to_numpy(), target, test_size=0.33) \n",
        "print(X_train.shape,X_test.shape,y_train.shape,y_test.shape)\n"
      ],
      "execution_count": 7,
      "outputs": [
        {
          "output_type": "stream",
          "text": [
            "(22585, 17) (11124, 17) (22585,) (11124,)\n"
          ],
          "name": "stdout"
        }
      ]
    },
    {
      "cell_type": "code",
      "metadata": {
        "colab": {
          "base_uri": "https://localhost:8080/"
        },
        "id": "iHkz_y2q7TJ9",
        "outputId": "ebe14d5b-8e70-47b1-929d-b282ee77f5ef"
      },
      "source": [
        "D = X_train.shape[1]\n",
        "D"
      ],
      "execution_count": 8,
      "outputs": [
        {
          "output_type": "execute_result",
          "data": {
            "text/plain": [
              "17"
            ]
          },
          "metadata": {
            "tags": []
          },
          "execution_count": 8
        }
      ]
    },
    {
      "cell_type": "code",
      "metadata": {
        "colab": {
          "base_uri": "https://localhost:8080/"
        },
        "id": "m3NSTgbH7TJ_",
        "outputId": "69b0ca02-9872-4a36-ed9e-addd0da8cbc4"
      },
      "source": [
        "# Now all the fun Tensorflow stuff\n",
        "# Build the model\n",
        "\n",
        "i = tf.keras.layers.Input(shape=(D,),name='Input')\n",
        "x = tf.keras.layers.Dense(16,activation='sigmoid', name='Hidden')(i)\n",
        "x = tf.keras.layers.Dense(1, activation='sigmoid', name='Classifier')(x)\n",
        "model = tf.keras.models.Model(i, x)\n",
        "\n",
        "\n",
        "model.compile(optimizer='adam',\n",
        "              loss='binary_crossentropy',\n",
        "              metrics=['accuracy'])\n",
        "\n",
        "r = model.fit(X_train,y_train,validation_data=(X_test, y_test), epochs=200)\n",
        "\n",
        "print(\"Train score:\", model.evaluate(X_train, y_train))\n",
        "print(\"Test score:\", model.evaluate(X_test, y_test))\n"
      ],
      "execution_count": 11,
      "outputs": [
        {
          "output_type": "stream",
          "text": [
            "Epoch 1/200\n",
            "706/706 [==============================] - 2s 2ms/step - loss: 0.6499 - accuracy: 0.6144 - val_loss: 0.5245 - val_accuracy: 0.7709\n",
            "Epoch 2/200\n",
            "706/706 [==============================] - 1s 2ms/step - loss: 0.5018 - accuracy: 0.7807 - val_loss: 0.4784 - val_accuracy: 0.7789\n",
            "Epoch 3/200\n",
            "706/706 [==============================] - 1s 2ms/step - loss: 0.4705 - accuracy: 0.7870 - val_loss: 0.4649 - val_accuracy: 0.7889\n",
            "Epoch 4/200\n",
            "706/706 [==============================] - 1s 2ms/step - loss: 0.4526 - accuracy: 0.8007 - val_loss: 0.4563 - val_accuracy: 0.7928\n",
            "Epoch 5/200\n",
            "706/706 [==============================] - 1s 2ms/step - loss: 0.4475 - accuracy: 0.8017 - val_loss: 0.4470 - val_accuracy: 0.8085\n",
            "Epoch 6/200\n",
            "706/706 [==============================] - 1s 2ms/step - loss: 0.4465 - accuracy: 0.8066 - val_loss: 0.4382 - val_accuracy: 0.8138\n",
            "Epoch 7/200\n",
            "706/706 [==============================] - 1s 2ms/step - loss: 0.4353 - accuracy: 0.8166 - val_loss: 0.4279 - val_accuracy: 0.8220\n",
            "Epoch 8/200\n",
            "706/706 [==============================] - 1s 2ms/step - loss: 0.4249 - accuracy: 0.8232 - val_loss: 0.4172 - val_accuracy: 0.8257\n",
            "Epoch 9/200\n",
            "706/706 [==============================] - 1s 2ms/step - loss: 0.4113 - accuracy: 0.8267 - val_loss: 0.4049 - val_accuracy: 0.8287\n",
            "Epoch 10/200\n",
            "706/706 [==============================] - 1s 2ms/step - loss: 0.4016 - accuracy: 0.8301 - val_loss: 0.3934 - val_accuracy: 0.8341\n",
            "Epoch 11/200\n",
            "706/706 [==============================] - 1s 2ms/step - loss: 0.3879 - accuracy: 0.8311 - val_loss: 0.3824 - val_accuracy: 0.8405\n",
            "Epoch 12/200\n",
            "706/706 [==============================] - 1s 2ms/step - loss: 0.3769 - accuracy: 0.8386 - val_loss: 0.3713 - val_accuracy: 0.8393\n",
            "Epoch 13/200\n",
            "706/706 [==============================] - 1s 2ms/step - loss: 0.3745 - accuracy: 0.8322 - val_loss: 0.3618 - val_accuracy: 0.8370\n",
            "Epoch 14/200\n",
            "706/706 [==============================] - 1s 2ms/step - loss: 0.3616 - accuracy: 0.8399 - val_loss: 0.3510 - val_accuracy: 0.8462\n",
            "Epoch 15/200\n",
            "706/706 [==============================] - 1s 2ms/step - loss: 0.3488 - accuracy: 0.8459 - val_loss: 0.3422 - val_accuracy: 0.8463\n",
            "Epoch 16/200\n",
            "706/706 [==============================] - 1s 2ms/step - loss: 0.3409 - accuracy: 0.8497 - val_loss: 0.3325 - val_accuracy: 0.8551\n",
            "Epoch 17/200\n",
            "706/706 [==============================] - 1s 2ms/step - loss: 0.3336 - accuracy: 0.8503 - val_loss: 0.3255 - val_accuracy: 0.8572\n",
            "Epoch 18/200\n",
            "706/706 [==============================] - 1s 2ms/step - loss: 0.3246 - accuracy: 0.8566 - val_loss: 0.3174 - val_accuracy: 0.8573\n",
            "Epoch 19/200\n",
            "706/706 [==============================] - 1s 2ms/step - loss: 0.3172 - accuracy: 0.8569 - val_loss: 0.3112 - val_accuracy: 0.8569\n",
            "Epoch 20/200\n",
            "706/706 [==============================] - 1s 2ms/step - loss: 0.3123 - accuracy: 0.8592 - val_loss: 0.3063 - val_accuracy: 0.8633\n",
            "Epoch 21/200\n",
            "706/706 [==============================] - 1s 2ms/step - loss: 0.3060 - accuracy: 0.8622 - val_loss: 0.3015 - val_accuracy: 0.8593\n",
            "Epoch 22/200\n",
            "706/706 [==============================] - 1s 2ms/step - loss: 0.3016 - accuracy: 0.8628 - val_loss: 0.2981 - val_accuracy: 0.8641\n",
            "Epoch 23/200\n",
            "706/706 [==============================] - 1s 2ms/step - loss: 0.3007 - accuracy: 0.8611 - val_loss: 0.2947 - val_accuracy: 0.8599\n",
            "Epoch 24/200\n",
            "706/706 [==============================] - 1s 2ms/step - loss: 0.2935 - accuracy: 0.8619 - val_loss: 0.2921 - val_accuracy: 0.8651\n",
            "Epoch 25/200\n",
            "706/706 [==============================] - 1s 2ms/step - loss: 0.2924 - accuracy: 0.8642 - val_loss: 0.2896 - val_accuracy: 0.8668\n",
            "Epoch 26/200\n",
            "706/706 [==============================] - 1s 2ms/step - loss: 0.2914 - accuracy: 0.8648 - val_loss: 0.2880 - val_accuracy: 0.8603\n",
            "Epoch 27/200\n",
            "706/706 [==============================] - 1s 2ms/step - loss: 0.2923 - accuracy: 0.8642 - val_loss: 0.2857 - val_accuracy: 0.8698\n",
            "Epoch 28/200\n",
            "706/706 [==============================] - 1s 2ms/step - loss: 0.2906 - accuracy: 0.8658 - val_loss: 0.2843 - val_accuracy: 0.8653\n",
            "Epoch 29/200\n",
            "706/706 [==============================] - 1s 2ms/step - loss: 0.2862 - accuracy: 0.8634 - val_loss: 0.2846 - val_accuracy: 0.8572\n",
            "Epoch 30/200\n",
            "706/706 [==============================] - 1s 2ms/step - loss: 0.2791 - accuracy: 0.8668 - val_loss: 0.2818 - val_accuracy: 0.8556\n",
            "Epoch 31/200\n",
            "706/706 [==============================] - 1s 2ms/step - loss: 0.2892 - accuracy: 0.8532 - val_loss: 0.2807 - val_accuracy: 0.8555\n",
            "Epoch 32/200\n",
            "706/706 [==============================] - 1s 2ms/step - loss: 0.2898 - accuracy: 0.8530 - val_loss: 0.2801 - val_accuracy: 0.8557\n",
            "Epoch 33/200\n",
            "706/706 [==============================] - 1s 2ms/step - loss: 0.2803 - accuracy: 0.8596 - val_loss: 0.2789 - val_accuracy: 0.8558\n",
            "Epoch 34/200\n",
            "706/706 [==============================] - 1s 2ms/step - loss: 0.2834 - accuracy: 0.8539 - val_loss: 0.2780 - val_accuracy: 0.8572\n",
            "Epoch 35/200\n",
            "706/706 [==============================] - 1s 2ms/step - loss: 0.2733 - accuracy: 0.8613 - val_loss: 0.2771 - val_accuracy: 0.8555\n",
            "Epoch 36/200\n",
            "706/706 [==============================] - 1s 2ms/step - loss: 0.2823 - accuracy: 0.8555 - val_loss: 0.2765 - val_accuracy: 0.8581\n",
            "Epoch 37/200\n",
            "706/706 [==============================] - 1s 2ms/step - loss: 0.2782 - accuracy: 0.8596 - val_loss: 0.2758 - val_accuracy: 0.8554\n",
            "Epoch 38/200\n",
            "706/706 [==============================] - 1s 2ms/step - loss: 0.2775 - accuracy: 0.8582 - val_loss: 0.2758 - val_accuracy: 0.8617\n",
            "Epoch 39/200\n",
            "706/706 [==============================] - 1s 2ms/step - loss: 0.2772 - accuracy: 0.8593 - val_loss: 0.2744 - val_accuracy: 0.8594\n",
            "Epoch 40/200\n",
            "706/706 [==============================] - 1s 2ms/step - loss: 0.2776 - accuracy: 0.8573 - val_loss: 0.2758 - val_accuracy: 0.8614\n",
            "Epoch 41/200\n",
            "706/706 [==============================] - 1s 2ms/step - loss: 0.2744 - accuracy: 0.8618 - val_loss: 0.2732 - val_accuracy: 0.8583\n",
            "Epoch 42/200\n",
            "706/706 [==============================] - 1s 2ms/step - loss: 0.2775 - accuracy: 0.8591 - val_loss: 0.2725 - val_accuracy: 0.8576\n",
            "Epoch 43/200\n",
            "706/706 [==============================] - 1s 2ms/step - loss: 0.2721 - accuracy: 0.8621 - val_loss: 0.2719 - val_accuracy: 0.8608\n",
            "Epoch 44/200\n",
            "706/706 [==============================] - 1s 2ms/step - loss: 0.2700 - accuracy: 0.8652 - val_loss: 0.2716 - val_accuracy: 0.8620\n",
            "Epoch 45/200\n",
            "706/706 [==============================] - 1s 2ms/step - loss: 0.2713 - accuracy: 0.8660 - val_loss: 0.2709 - val_accuracy: 0.8599\n",
            "Epoch 46/200\n",
            "706/706 [==============================] - 1s 2ms/step - loss: 0.2665 - accuracy: 0.8675 - val_loss: 0.2701 - val_accuracy: 0.8613\n",
            "Epoch 47/200\n",
            "706/706 [==============================] - 1s 2ms/step - loss: 0.2710 - accuracy: 0.8630 - val_loss: 0.2699 - val_accuracy: 0.8639\n",
            "Epoch 48/200\n",
            "706/706 [==============================] - 1s 2ms/step - loss: 0.2707 - accuracy: 0.8689 - val_loss: 0.2692 - val_accuracy: 0.8644\n",
            "Epoch 49/200\n",
            "706/706 [==============================] - 1s 2ms/step - loss: 0.2723 - accuracy: 0.8641 - val_loss: 0.2686 - val_accuracy: 0.8625\n",
            "Epoch 50/200\n",
            "706/706 [==============================] - 1s 2ms/step - loss: 0.2683 - accuracy: 0.8645 - val_loss: 0.2678 - val_accuracy: 0.8590\n",
            "Epoch 51/200\n",
            "706/706 [==============================] - 1s 2ms/step - loss: 0.2697 - accuracy: 0.8668 - val_loss: 0.2673 - val_accuracy: 0.8651\n",
            "Epoch 52/200\n",
            "706/706 [==============================] - 1s 2ms/step - loss: 0.2693 - accuracy: 0.8630 - val_loss: 0.2668 - val_accuracy: 0.8582\n",
            "Epoch 53/200\n",
            "706/706 [==============================] - 1s 2ms/step - loss: 0.2713 - accuracy: 0.8601 - val_loss: 0.2664 - val_accuracy: 0.8624\n",
            "Epoch 54/200\n",
            "706/706 [==============================] - 1s 2ms/step - loss: 0.2707 - accuracy: 0.8634 - val_loss: 0.2666 - val_accuracy: 0.8701\n",
            "Epoch 55/200\n",
            "706/706 [==============================] - 1s 2ms/step - loss: 0.2722 - accuracy: 0.8664 - val_loss: 0.2664 - val_accuracy: 0.8697\n",
            "Epoch 56/200\n",
            "706/706 [==============================] - 1s 2ms/step - loss: 0.2686 - accuracy: 0.8667 - val_loss: 0.2646 - val_accuracy: 0.8661\n",
            "Epoch 57/200\n",
            "706/706 [==============================] - 1s 2ms/step - loss: 0.2648 - accuracy: 0.8693 - val_loss: 0.2635 - val_accuracy: 0.8640\n",
            "Epoch 58/200\n",
            "706/706 [==============================] - 1s 2ms/step - loss: 0.2623 - accuracy: 0.8687 - val_loss: 0.2629 - val_accuracy: 0.8634\n",
            "Epoch 59/200\n",
            "706/706 [==============================] - 1s 2ms/step - loss: 0.2711 - accuracy: 0.8634 - val_loss: 0.2633 - val_accuracy: 0.8620\n",
            "Epoch 60/200\n",
            "706/706 [==============================] - 1s 2ms/step - loss: 0.2642 - accuracy: 0.8667 - val_loss: 0.2619 - val_accuracy: 0.8641\n",
            "Epoch 61/200\n",
            "706/706 [==============================] - 1s 2ms/step - loss: 0.2576 - accuracy: 0.8723 - val_loss: 0.2618 - val_accuracy: 0.8687\n",
            "Epoch 62/200\n",
            "706/706 [==============================] - 1s 2ms/step - loss: 0.2645 - accuracy: 0.8695 - val_loss: 0.2606 - val_accuracy: 0.8644\n",
            "Epoch 63/200\n",
            "706/706 [==============================] - 1s 2ms/step - loss: 0.2635 - accuracy: 0.8647 - val_loss: 0.2600 - val_accuracy: 0.8663\n",
            "Epoch 64/200\n",
            "706/706 [==============================] - 1s 2ms/step - loss: 0.2641 - accuracy: 0.8687 - val_loss: 0.2592 - val_accuracy: 0.8626\n",
            "Epoch 65/200\n",
            "706/706 [==============================] - 1s 2ms/step - loss: 0.2610 - accuracy: 0.8673 - val_loss: 0.2584 - val_accuracy: 0.8612\n",
            "Epoch 66/200\n",
            "706/706 [==============================] - 1s 2ms/step - loss: 0.2548 - accuracy: 0.8704 - val_loss: 0.2580 - val_accuracy: 0.8673\n",
            "Epoch 67/200\n",
            "706/706 [==============================] - 1s 2ms/step - loss: 0.2643 - accuracy: 0.8679 - val_loss: 0.2574 - val_accuracy: 0.8665\n",
            "Epoch 68/200\n",
            "706/706 [==============================] - 1s 2ms/step - loss: 0.2587 - accuracy: 0.8684 - val_loss: 0.2572 - val_accuracy: 0.8688\n",
            "Epoch 69/200\n",
            "706/706 [==============================] - 1s 2ms/step - loss: 0.2599 - accuracy: 0.8674 - val_loss: 0.2562 - val_accuracy: 0.8648\n",
            "Epoch 70/200\n",
            "706/706 [==============================] - 1s 2ms/step - loss: 0.2555 - accuracy: 0.8677 - val_loss: 0.2554 - val_accuracy: 0.8629\n",
            "Epoch 71/200\n",
            "706/706 [==============================] - 1s 2ms/step - loss: 0.2557 - accuracy: 0.8665 - val_loss: 0.2558 - val_accuracy: 0.8699\n",
            "Epoch 72/200\n",
            "706/706 [==============================] - 1s 2ms/step - loss: 0.2491 - accuracy: 0.8729 - val_loss: 0.2542 - val_accuracy: 0.8669\n",
            "Epoch 73/200\n",
            "706/706 [==============================] - 1s 2ms/step - loss: 0.2499 - accuracy: 0.8716 - val_loss: 0.2536 - val_accuracy: 0.8622\n",
            "Epoch 74/200\n",
            "706/706 [==============================] - 1s 2ms/step - loss: 0.2594 - accuracy: 0.8655 - val_loss: 0.2537 - val_accuracy: 0.8753\n",
            "Epoch 75/200\n",
            "706/706 [==============================] - 1s 2ms/step - loss: 0.2553 - accuracy: 0.8685 - val_loss: 0.2526 - val_accuracy: 0.8728\n",
            "Epoch 76/200\n",
            "706/706 [==============================] - 1s 2ms/step - loss: 0.2539 - accuracy: 0.8696 - val_loss: 0.2522 - val_accuracy: 0.8715\n",
            "Epoch 77/200\n",
            "706/706 [==============================] - 1s 2ms/step - loss: 0.2512 - accuracy: 0.8686 - val_loss: 0.2518 - val_accuracy: 0.8780\n",
            "Epoch 78/200\n",
            "706/706 [==============================] - 1s 2ms/step - loss: 0.2548 - accuracy: 0.8733 - val_loss: 0.2505 - val_accuracy: 0.8668\n",
            "Epoch 79/200\n",
            "706/706 [==============================] - 1s 2ms/step - loss: 0.2499 - accuracy: 0.8685 - val_loss: 0.2499 - val_accuracy: 0.8640\n",
            "Epoch 80/200\n",
            "706/706 [==============================] - 1s 2ms/step - loss: 0.2474 - accuracy: 0.8693 - val_loss: 0.2496 - val_accuracy: 0.8738\n",
            "Epoch 81/200\n",
            "706/706 [==============================] - 1s 2ms/step - loss: 0.2516 - accuracy: 0.8725 - val_loss: 0.2486 - val_accuracy: 0.8697\n",
            "Epoch 82/200\n",
            "706/706 [==============================] - 1s 2ms/step - loss: 0.2464 - accuracy: 0.8721 - val_loss: 0.2479 - val_accuracy: 0.8682\n",
            "Epoch 83/200\n",
            "706/706 [==============================] - 1s 2ms/step - loss: 0.2496 - accuracy: 0.8689 - val_loss: 0.2475 - val_accuracy: 0.8763\n",
            "Epoch 84/200\n",
            "706/706 [==============================] - 1s 2ms/step - loss: 0.2460 - accuracy: 0.8757 - val_loss: 0.2466 - val_accuracy: 0.8711\n",
            "Epoch 85/200\n",
            "706/706 [==============================] - 1s 2ms/step - loss: 0.2504 - accuracy: 0.8714 - val_loss: 0.2459 - val_accuracy: 0.8685\n",
            "Epoch 86/200\n",
            "706/706 [==============================] - 1s 2ms/step - loss: 0.2435 - accuracy: 0.8755 - val_loss: 0.2455 - val_accuracy: 0.8775\n",
            "Epoch 87/200\n",
            "706/706 [==============================] - 1s 2ms/step - loss: 0.2475 - accuracy: 0.8724 - val_loss: 0.2447 - val_accuracy: 0.8710\n",
            "Epoch 88/200\n",
            "706/706 [==============================] - 1s 2ms/step - loss: 0.2456 - accuracy: 0.8742 - val_loss: 0.2440 - val_accuracy: 0.8721\n",
            "Epoch 89/200\n",
            "706/706 [==============================] - 1s 2ms/step - loss: 0.2447 - accuracy: 0.8713 - val_loss: 0.2445 - val_accuracy: 0.8800\n",
            "Epoch 90/200\n",
            "706/706 [==============================] - 1s 2ms/step - loss: 0.2461 - accuracy: 0.8725 - val_loss: 0.2427 - val_accuracy: 0.8743\n",
            "Epoch 91/200\n",
            "706/706 [==============================] - 1s 2ms/step - loss: 0.2402 - accuracy: 0.8792 - val_loss: 0.2421 - val_accuracy: 0.8732\n",
            "Epoch 92/200\n",
            "706/706 [==============================] - 1s 2ms/step - loss: 0.2460 - accuracy: 0.8730 - val_loss: 0.2416 - val_accuracy: 0.8777\n",
            "Epoch 93/200\n",
            "706/706 [==============================] - 1s 2ms/step - loss: 0.2418 - accuracy: 0.8781 - val_loss: 0.2408 - val_accuracy: 0.8782\n",
            "Epoch 94/200\n",
            "706/706 [==============================] - 1s 2ms/step - loss: 0.2394 - accuracy: 0.8803 - val_loss: 0.2401 - val_accuracy: 0.8746\n",
            "Epoch 95/200\n",
            "706/706 [==============================] - 1s 2ms/step - loss: 0.2375 - accuracy: 0.8780 - val_loss: 0.2394 - val_accuracy: 0.8756\n",
            "Epoch 96/200\n",
            "706/706 [==============================] - 1s 2ms/step - loss: 0.2372 - accuracy: 0.8792 - val_loss: 0.2390 - val_accuracy: 0.8774\n",
            "Epoch 97/200\n",
            "706/706 [==============================] - 1s 2ms/step - loss: 0.2385 - accuracy: 0.8784 - val_loss: 0.2381 - val_accuracy: 0.8775\n",
            "Epoch 98/200\n",
            "706/706 [==============================] - 1s 2ms/step - loss: 0.2401 - accuracy: 0.8826 - val_loss: 0.2380 - val_accuracy: 0.8830\n",
            "Epoch 99/200\n",
            "706/706 [==============================] - 1s 2ms/step - loss: 0.2381 - accuracy: 0.8797 - val_loss: 0.2375 - val_accuracy: 0.8821\n",
            "Epoch 100/200\n",
            "706/706 [==============================] - 1s 2ms/step - loss: 0.2287 - accuracy: 0.8887 - val_loss: 0.2363 - val_accuracy: 0.8833\n",
            "Epoch 101/200\n",
            "706/706 [==============================] - 1s 2ms/step - loss: 0.2360 - accuracy: 0.8850 - val_loss: 0.2360 - val_accuracy: 0.8882\n",
            "Epoch 102/200\n",
            "706/706 [==============================] - 1s 2ms/step - loss: 0.2385 - accuracy: 0.8804 - val_loss: 0.2352 - val_accuracy: 0.8835\n",
            "Epoch 103/200\n",
            "706/706 [==============================] - 1s 2ms/step - loss: 0.2361 - accuracy: 0.8844 - val_loss: 0.2341 - val_accuracy: 0.8841\n",
            "Epoch 104/200\n",
            "706/706 [==============================] - 1s 2ms/step - loss: 0.2331 - accuracy: 0.8870 - val_loss: 0.2333 - val_accuracy: 0.8851\n",
            "Epoch 105/200\n",
            "706/706 [==============================] - 1s 2ms/step - loss: 0.2374 - accuracy: 0.8834 - val_loss: 0.2326 - val_accuracy: 0.8828\n",
            "Epoch 106/200\n",
            "706/706 [==============================] - 1s 2ms/step - loss: 0.2307 - accuracy: 0.8873 - val_loss: 0.2319 - val_accuracy: 0.8839\n",
            "Epoch 107/200\n",
            "706/706 [==============================] - 1s 2ms/step - loss: 0.2317 - accuracy: 0.8879 - val_loss: 0.2312 - val_accuracy: 0.8844\n",
            "Epoch 108/200\n",
            "706/706 [==============================] - 1s 2ms/step - loss: 0.2298 - accuracy: 0.8908 - val_loss: 0.2305 - val_accuracy: 0.8852\n",
            "Epoch 109/200\n",
            "706/706 [==============================] - 1s 2ms/step - loss: 0.2260 - accuracy: 0.8877 - val_loss: 0.2301 - val_accuracy: 0.8875\n",
            "Epoch 110/200\n",
            "706/706 [==============================] - 1s 2ms/step - loss: 0.2267 - accuracy: 0.8926 - val_loss: 0.2293 - val_accuracy: 0.8895\n",
            "Epoch 111/200\n",
            "706/706 [==============================] - 1s 2ms/step - loss: 0.2315 - accuracy: 0.8885 - val_loss: 0.2285 - val_accuracy: 0.8856\n",
            "Epoch 112/200\n",
            "706/706 [==============================] - 1s 2ms/step - loss: 0.2327 - accuracy: 0.8860 - val_loss: 0.2279 - val_accuracy: 0.8912\n",
            "Epoch 113/200\n",
            "706/706 [==============================] - 1s 2ms/step - loss: 0.2293 - accuracy: 0.8899 - val_loss: 0.2276 - val_accuracy: 0.8918\n",
            "Epoch 114/200\n",
            "706/706 [==============================] - 1s 2ms/step - loss: 0.2257 - accuracy: 0.8951 - val_loss: 0.2270 - val_accuracy: 0.8885\n",
            "Epoch 115/200\n",
            "706/706 [==============================] - 1s 2ms/step - loss: 0.2249 - accuracy: 0.8914 - val_loss: 0.2259 - val_accuracy: 0.8904\n",
            "Epoch 116/200\n",
            "706/706 [==============================] - 1s 2ms/step - loss: 0.2261 - accuracy: 0.8920 - val_loss: 0.2262 - val_accuracy: 0.8914\n",
            "Epoch 117/200\n",
            "706/706 [==============================] - 1s 2ms/step - loss: 0.2251 - accuracy: 0.8888 - val_loss: 0.2248 - val_accuracy: 0.8908\n",
            "Epoch 118/200\n",
            "706/706 [==============================] - 1s 2ms/step - loss: 0.2240 - accuracy: 0.8918 - val_loss: 0.2246 - val_accuracy: 0.8937\n",
            "Epoch 119/200\n",
            "706/706 [==============================] - 1s 2ms/step - loss: 0.2279 - accuracy: 0.8885 - val_loss: 0.2236 - val_accuracy: 0.8932\n",
            "Epoch 120/200\n",
            "706/706 [==============================] - 1s 2ms/step - loss: 0.2204 - accuracy: 0.8955 - val_loss: 0.2238 - val_accuracy: 0.8923\n",
            "Epoch 121/200\n",
            "706/706 [==============================] - 1s 2ms/step - loss: 0.2253 - accuracy: 0.8944 - val_loss: 0.2229 - val_accuracy: 0.8932\n",
            "Epoch 122/200\n",
            "706/706 [==============================] - 1s 2ms/step - loss: 0.2233 - accuracy: 0.8915 - val_loss: 0.2225 - val_accuracy: 0.8971\n",
            "Epoch 123/200\n",
            "706/706 [==============================] - 1s 2ms/step - loss: 0.2179 - accuracy: 0.8980 - val_loss: 0.2216 - val_accuracy: 0.8937\n",
            "Epoch 124/200\n",
            "706/706 [==============================] - 1s 2ms/step - loss: 0.2205 - accuracy: 0.8949 - val_loss: 0.2221 - val_accuracy: 0.8919\n",
            "Epoch 125/200\n",
            "706/706 [==============================] - 1s 2ms/step - loss: 0.2190 - accuracy: 0.8936 - val_loss: 0.2217 - val_accuracy: 0.8946\n",
            "Epoch 126/200\n",
            "706/706 [==============================] - 1s 2ms/step - loss: 0.2079 - accuracy: 0.9028 - val_loss: 0.2205 - val_accuracy: 0.8946\n",
            "Epoch 127/200\n",
            "706/706 [==============================] - 1s 2ms/step - loss: 0.2144 - accuracy: 0.8949 - val_loss: 0.2204 - val_accuracy: 0.8952\n",
            "Epoch 128/200\n",
            "706/706 [==============================] - 1s 2ms/step - loss: 0.2165 - accuracy: 0.8961 - val_loss: 0.2196 - val_accuracy: 0.9003\n",
            "Epoch 129/200\n",
            "706/706 [==============================] - 1s 2ms/step - loss: 0.2201 - accuracy: 0.8930 - val_loss: 0.2182 - val_accuracy: 0.8937\n",
            "Epoch 130/200\n",
            "706/706 [==============================] - 1s 2ms/step - loss: 0.2166 - accuracy: 0.8938 - val_loss: 0.2176 - val_accuracy: 0.8958\n",
            "Epoch 131/200\n",
            "706/706 [==============================] - 1s 2ms/step - loss: 0.2110 - accuracy: 0.8991 - val_loss: 0.2173 - val_accuracy: 0.8940\n",
            "Epoch 132/200\n",
            "706/706 [==============================] - 1s 2ms/step - loss: 0.2164 - accuracy: 0.8950 - val_loss: 0.2166 - val_accuracy: 0.8962\n",
            "Epoch 133/200\n",
            "706/706 [==============================] - 1s 2ms/step - loss: 0.2143 - accuracy: 0.8991 - val_loss: 0.2161 - val_accuracy: 0.8943\n",
            "Epoch 134/200\n",
            "706/706 [==============================] - 1s 2ms/step - loss: 0.2122 - accuracy: 0.8988 - val_loss: 0.2156 - val_accuracy: 0.8949\n",
            "Epoch 135/200\n",
            "706/706 [==============================] - 1s 2ms/step - loss: 0.2128 - accuracy: 0.8950 - val_loss: 0.2156 - val_accuracy: 0.8958\n",
            "Epoch 136/200\n",
            "706/706 [==============================] - 1s 2ms/step - loss: 0.2153 - accuracy: 0.8953 - val_loss: 0.2151 - val_accuracy: 0.8933\n",
            "Epoch 137/200\n",
            "706/706 [==============================] - 1s 2ms/step - loss: 0.2156 - accuracy: 0.8971 - val_loss: 0.2150 - val_accuracy: 0.8954\n",
            "Epoch 138/200\n",
            "706/706 [==============================] - 1s 2ms/step - loss: 0.2157 - accuracy: 0.8960 - val_loss: 0.2140 - val_accuracy: 0.8929\n",
            "Epoch 139/200\n",
            "706/706 [==============================] - 1s 2ms/step - loss: 0.2108 - accuracy: 0.8974 - val_loss: 0.2134 - val_accuracy: 0.8962\n",
            "Epoch 140/200\n",
            "706/706 [==============================] - 1s 2ms/step - loss: 0.2156 - accuracy: 0.8963 - val_loss: 0.2137 - val_accuracy: 0.8964\n",
            "Epoch 141/200\n",
            "706/706 [==============================] - 1s 2ms/step - loss: 0.2090 - accuracy: 0.8962 - val_loss: 0.2127 - val_accuracy: 0.8964\n",
            "Epoch 142/200\n",
            "706/706 [==============================] - 1s 2ms/step - loss: 0.2069 - accuracy: 0.8990 - val_loss: 0.2122 - val_accuracy: 0.8970\n",
            "Epoch 143/200\n",
            "706/706 [==============================] - 1s 2ms/step - loss: 0.2123 - accuracy: 0.8951 - val_loss: 0.2119 - val_accuracy: 0.8961\n",
            "Epoch 144/200\n",
            "706/706 [==============================] - 1s 2ms/step - loss: 0.2138 - accuracy: 0.8953 - val_loss: 0.2114 - val_accuracy: 0.8964\n",
            "Epoch 145/200\n",
            "706/706 [==============================] - 1s 2ms/step - loss: 0.2070 - accuracy: 0.8965 - val_loss: 0.2114 - val_accuracy: 0.9022\n",
            "Epoch 146/200\n",
            "706/706 [==============================] - 1s 2ms/step - loss: 0.2079 - accuracy: 0.8960 - val_loss: 0.2109 - val_accuracy: 0.8968\n",
            "Epoch 147/200\n",
            "706/706 [==============================] - 1s 2ms/step - loss: 0.2080 - accuracy: 0.8960 - val_loss: 0.2103 - val_accuracy: 0.8969\n",
            "Epoch 148/200\n",
            "706/706 [==============================] - 1s 2ms/step - loss: 0.2071 - accuracy: 0.8965 - val_loss: 0.2099 - val_accuracy: 0.8962\n",
            "Epoch 149/200\n",
            "706/706 [==============================] - 1s 2ms/step - loss: 0.2057 - accuracy: 0.8986 - val_loss: 0.2095 - val_accuracy: 0.8979\n",
            "Epoch 150/200\n",
            "706/706 [==============================] - 1s 2ms/step - loss: 0.2069 - accuracy: 0.8993 - val_loss: 0.2095 - val_accuracy: 0.9017\n",
            "Epoch 151/200\n",
            "706/706 [==============================] - 1s 2ms/step - loss: 0.2071 - accuracy: 0.8977 - val_loss: 0.2090 - val_accuracy: 0.8952\n",
            "Epoch 152/200\n",
            "706/706 [==============================] - 1s 2ms/step - loss: 0.2064 - accuracy: 0.8991 - val_loss: 0.2090 - val_accuracy: 0.8969\n",
            "Epoch 153/200\n",
            "706/706 [==============================] - 1s 2ms/step - loss: 0.2119 - accuracy: 0.8934 - val_loss: 0.2089 - val_accuracy: 0.9021\n",
            "Epoch 154/200\n",
            "706/706 [==============================] - 1s 2ms/step - loss: 0.2066 - accuracy: 0.8989 - val_loss: 0.2081 - val_accuracy: 0.8946\n",
            "Epoch 155/200\n",
            "706/706 [==============================] - 1s 2ms/step - loss: 0.2061 - accuracy: 0.8982 - val_loss: 0.2080 - val_accuracy: 0.8972\n",
            "Epoch 156/200\n",
            "706/706 [==============================] - 1s 2ms/step - loss: 0.2054 - accuracy: 0.8978 - val_loss: 0.2074 - val_accuracy: 0.8959\n",
            "Epoch 157/200\n",
            "706/706 [==============================] - 1s 2ms/step - loss: 0.2045 - accuracy: 0.8963 - val_loss: 0.2075 - val_accuracy: 0.8944\n",
            "Epoch 158/200\n",
            "706/706 [==============================] - 1s 2ms/step - loss: 0.2010 - accuracy: 0.8988 - val_loss: 0.2086 - val_accuracy: 0.9066\n",
            "Epoch 159/200\n",
            "706/706 [==============================] - 1s 2ms/step - loss: 0.2055 - accuracy: 0.8977 - val_loss: 0.2073 - val_accuracy: 0.8991\n",
            "Epoch 160/200\n",
            "706/706 [==============================] - 1s 2ms/step - loss: 0.2053 - accuracy: 0.9008 - val_loss: 0.2069 - val_accuracy: 0.9007\n",
            "Epoch 161/200\n",
            "706/706 [==============================] - 1s 2ms/step - loss: 0.2023 - accuracy: 0.9011 - val_loss: 0.2067 - val_accuracy: 0.8955\n",
            "Epoch 162/200\n",
            "706/706 [==============================] - 1s 2ms/step - loss: 0.1971 - accuracy: 0.9027 - val_loss: 0.2067 - val_accuracy: 0.8970\n",
            "Epoch 163/200\n",
            "706/706 [==============================] - 1s 2ms/step - loss: 0.2043 - accuracy: 0.8972 - val_loss: 0.2055 - val_accuracy: 0.9039\n",
            "Epoch 164/200\n",
            "706/706 [==============================] - 1s 2ms/step - loss: 0.2033 - accuracy: 0.8987 - val_loss: 0.2052 - val_accuracy: 0.8998\n",
            "Epoch 165/200\n",
            "706/706 [==============================] - 1s 2ms/step - loss: 0.2026 - accuracy: 0.8995 - val_loss: 0.2050 - val_accuracy: 0.8967\n",
            "Epoch 166/200\n",
            "706/706 [==============================] - 1s 2ms/step - loss: 0.2030 - accuracy: 0.8987 - val_loss: 0.2059 - val_accuracy: 0.9096\n",
            "Epoch 167/200\n",
            "706/706 [==============================] - 1s 2ms/step - loss: 0.1976 - accuracy: 0.9022 - val_loss: 0.2054 - val_accuracy: 0.9024\n",
            "Epoch 168/200\n",
            "706/706 [==============================] - 1s 2ms/step - loss: 0.1980 - accuracy: 0.9061 - val_loss: 0.2045 - val_accuracy: 0.9039\n",
            "Epoch 169/200\n",
            "706/706 [==============================] - 1s 2ms/step - loss: 0.1992 - accuracy: 0.9022 - val_loss: 0.2040 - val_accuracy: 0.8979\n",
            "Epoch 170/200\n",
            "706/706 [==============================] - 1s 2ms/step - loss: 0.2006 - accuracy: 0.8994 - val_loss: 0.2037 - val_accuracy: 0.8972\n",
            "Epoch 171/200\n",
            "706/706 [==============================] - 2s 2ms/step - loss: 0.2026 - accuracy: 0.8985 - val_loss: 0.2034 - val_accuracy: 0.8981\n",
            "Epoch 172/200\n",
            "706/706 [==============================] - 1s 2ms/step - loss: 0.2000 - accuracy: 0.9023 - val_loss: 0.2032 - val_accuracy: 0.8982\n",
            "Epoch 173/200\n",
            "706/706 [==============================] - 1s 2ms/step - loss: 0.1995 - accuracy: 0.9025 - val_loss: 0.2036 - val_accuracy: 0.9082\n",
            "Epoch 174/200\n",
            "706/706 [==============================] - 1s 2ms/step - loss: 0.1986 - accuracy: 0.9034 - val_loss: 0.2031 - val_accuracy: 0.9035\n",
            "Epoch 175/200\n",
            "706/706 [==============================] - 1s 2ms/step - loss: 0.2051 - accuracy: 0.8957 - val_loss: 0.2025 - val_accuracy: 0.9061\n",
            "Epoch 176/200\n",
            "706/706 [==============================] - 1s 2ms/step - loss: 0.1940 - accuracy: 0.9050 - val_loss: 0.2036 - val_accuracy: 0.9116\n",
            "Epoch 177/200\n",
            "706/706 [==============================] - 1s 2ms/step - loss: 0.1991 - accuracy: 0.9054 - val_loss: 0.2020 - val_accuracy: 0.9049\n",
            "Epoch 178/200\n",
            "706/706 [==============================] - 1s 2ms/step - loss: 0.2016 - accuracy: 0.9002 - val_loss: 0.2021 - val_accuracy: 0.9077\n",
            "Epoch 179/200\n",
            "706/706 [==============================] - 1s 2ms/step - loss: 0.2000 - accuracy: 0.9045 - val_loss: 0.2039 - val_accuracy: 0.9064\n",
            "Epoch 180/200\n",
            "706/706 [==============================] - 1s 2ms/step - loss: 0.1958 - accuracy: 0.9012 - val_loss: 0.2028 - val_accuracy: 0.9099\n",
            "Epoch 181/200\n",
            "706/706 [==============================] - 1s 2ms/step - loss: 0.1937 - accuracy: 0.9048 - val_loss: 0.2014 - val_accuracy: 0.9053\n",
            "Epoch 182/200\n",
            "706/706 [==============================] - 1s 2ms/step - loss: 0.1952 - accuracy: 0.9049 - val_loss: 0.2012 - val_accuracy: 0.8956\n",
            "Epoch 183/200\n",
            "706/706 [==============================] - 1s 2ms/step - loss: 0.1970 - accuracy: 0.9025 - val_loss: 0.2007 - val_accuracy: 0.8989\n",
            "Epoch 184/200\n",
            "706/706 [==============================] - 1s 2ms/step - loss: 0.2014 - accuracy: 0.9015 - val_loss: 0.2010 - val_accuracy: 0.9076\n",
            "Epoch 185/200\n",
            "706/706 [==============================] - 1s 2ms/step - loss: 0.1979 - accuracy: 0.9062 - val_loss: 0.2005 - val_accuracy: 0.9072\n",
            "Epoch 186/200\n",
            "706/706 [==============================] - 1s 2ms/step - loss: 0.1927 - accuracy: 0.9073 - val_loss: 0.2008 - val_accuracy: 0.9070\n",
            "Epoch 187/200\n",
            "706/706 [==============================] - 1s 2ms/step - loss: 0.1952 - accuracy: 0.9053 - val_loss: 0.2004 - val_accuracy: 0.9085\n",
            "Epoch 188/200\n",
            "706/706 [==============================] - 1s 2ms/step - loss: 0.1963 - accuracy: 0.9076 - val_loss: 0.2001 - val_accuracy: 0.9065\n",
            "Epoch 189/200\n",
            "706/706 [==============================] - 1s 2ms/step - loss: 0.1998 - accuracy: 0.9017 - val_loss: 0.2000 - val_accuracy: 0.9079\n",
            "Epoch 190/200\n",
            "706/706 [==============================] - 1s 2ms/step - loss: 0.1982 - accuracy: 0.9028 - val_loss: 0.2005 - val_accuracy: 0.9092\n",
            "Epoch 191/200\n",
            "706/706 [==============================] - 1s 2ms/step - loss: 0.1958 - accuracy: 0.9055 - val_loss: 0.2000 - val_accuracy: 0.9071\n",
            "Epoch 192/200\n",
            "706/706 [==============================] - 1s 2ms/step - loss: 0.1941 - accuracy: 0.9074 - val_loss: 0.1991 - val_accuracy: 0.9053\n",
            "Epoch 193/200\n",
            "706/706 [==============================] - 1s 2ms/step - loss: 0.1988 - accuracy: 0.9027 - val_loss: 0.1988 - val_accuracy: 0.9050\n",
            "Epoch 194/200\n",
            "706/706 [==============================] - 1s 2ms/step - loss: 0.1984 - accuracy: 0.9023 - val_loss: 0.1990 - val_accuracy: 0.8973\n",
            "Epoch 195/200\n",
            "706/706 [==============================] - 1s 2ms/step - loss: 0.1937 - accuracy: 0.9050 - val_loss: 0.1992 - val_accuracy: 0.9069\n",
            "Epoch 196/200\n",
            "706/706 [==============================] - 1s 2ms/step - loss: 0.1933 - accuracy: 0.9071 - val_loss: 0.1982 - val_accuracy: 0.8993\n",
            "Epoch 197/200\n",
            "706/706 [==============================] - 1s 2ms/step - loss: 0.1938 - accuracy: 0.9031 - val_loss: 0.1978 - val_accuracy: 0.9059\n",
            "Epoch 198/200\n",
            "706/706 [==============================] - 1s 2ms/step - loss: 0.1921 - accuracy: 0.9051 - val_loss: 0.1981 - val_accuracy: 0.9078\n",
            "Epoch 199/200\n",
            "706/706 [==============================] - 1s 2ms/step - loss: 0.1992 - accuracy: 0.9031 - val_loss: 0.1984 - val_accuracy: 0.9088\n",
            "Epoch 200/200\n",
            "706/706 [==============================] - 1s 2ms/step - loss: 0.1883 - accuracy: 0.9085 - val_loss: 0.1976 - val_accuracy: 0.8981\n",
            "706/706 [==============================] - 1s 1ms/step - loss: 0.1937 - accuracy: 0.8984\n",
            "Train score: [0.19373583793640137, 0.8984281420707703]\n",
            "348/348 [==============================] - 0s 1ms/step - loss: 0.1976 - accuracy: 0.8981\n",
            "Test score: [0.1976366639137268, 0.8980582356452942]\n"
          ],
          "name": "stdout"
        }
      ]
    },
    {
      "cell_type": "code",
      "metadata": {
        "colab": {
          "base_uri": "https://localhost:8080/",
          "height": 284
        },
        "id": "31yp5KCd7TKA",
        "outputId": "fc5654aa-4f82-478c-8b3f-78f843029d83"
      },
      "source": [
        "plt.plot(r.history['loss'], label='loss')\n",
        "plt.plot(r.history['val_loss'], label='val_loss')\n",
        "plt.legend()"
      ],
      "execution_count": 12,
      "outputs": [
        {
          "output_type": "execute_result",
          "data": {
            "text/plain": [
              "<matplotlib.legend.Legend at 0x7f843de8e090>"
            ]
          },
          "metadata": {
            "tags": []
          },
          "execution_count": 12
        },
        {
          "output_type": "display_data",
          "data": {
            "image/png": "[encoded data removed]",
            "text/plain": [
              "<Figure size 432x288 with 1 Axes>"
            ]
          },
          "metadata": {
            "tags": [],
            "needs_background": "light"
          }
        }
      ]
    },
    {
      "cell_type": "code",
      "metadata": {
        "colab": {
          "base_uri": "https://localhost:8080/",
          "height": 284
        },
        "id": "g5tdSqRp7TKB",
        "outputId": "19ac7c86-9ea1-4daa-cab8-774a0d39b92c"
      },
      "source": [
        "# Plot the accuracy too\n",
        "plt.plot(r.history['accuracy'], label='acc')\n",
        "plt.plot(r.history['val_accuracy'], label='val_acc')\n",
        "plt.legend()"
      ],
      "execution_count": 13,
      "outputs": [
        {
          "output_type": "execute_result",
          "data": {
            "text/plain": [
              "<matplotlib.legend.Legend at 0x7f843ddf3850>"
            ]
          },
          "metadata": {
            "tags": []
          },
          "execution_count": 13
        },
        {
          "output_type": "display_data",
          "data": {
            "image/png": "[encoded data removed]",
            "text/plain": [
              "<Figure size 432x288 with 1 Axes>"
            ]
          },
          "metadata": {
            "tags": [],
            "needs_background": "light"
          }
        }
      ]
    },
    {
      "cell_type": "code",
      "metadata": {
        "colab": {
          "base_uri": "https://localhost:8080/"
        },
        "id": "7AhT3fRI7TKE",
        "outputId": "898a1d2b-85b1-4407-e2ba-b52805c9a214"
      },
      "source": [
        "model.summary()\n"
      ],
      "execution_count": 14,
      "outputs": [
        {
          "output_type": "stream",
          "text": [
            "Model: \"model\"\n",
            "_________________________________________________________________\n",
            "Layer (type)                 Output Shape              Param #   \n",
            "=================================================================\n",
            "Input (InputLayer)           [(None, 17)]              0         \n",
            "_________________________________________________________________\n",
            "Hidden (Dense)               (None, 16)                288       \n",
            "_________________________________________________________________\n",
            "Classifier (Dense)           (None, 1)                 17        \n",
            "=================================================================\n",
            "Total params: 305\n",
            "Trainable params: 305\n",
            "Non-trainable params: 0\n",
            "_________________________________________________________________\n"
          ],
          "name": "stdout"
        }
      ]
    },
    {
      "cell_type": "code",
      "metadata": {
        "colab": {
          "base_uri": "https://localhost:8080/"
        },
        "id": "nuqLpsSI7TKF",
        "outputId": "fe2facfc-7d2c-4876-ab0d-e618090ce907"
      },
      "source": [
        "for z in zip(df_wide.columns.values,model.layers[5].get_weights()[0]):\n",
        "  print(z)\n"
      ],
      "execution_count": null,
      "outputs": [
        {
          "output_type": "stream",
          "text": [
            "('BLUETOOTH_DEVICES', array([0.78467166], dtype=float32))\n",
            "('GPS_FIX_SATELLITES', array([-2.941558], dtype=float32))\n",
            "('GPS_SATELLITES', array([0.3114541], dtype=float32))\n",
            "('TMD3725_Light Ambient Light Sensor Non-wakeup', array([-0.46210802], dtype=float32))\n",
            "('WIFI_ACCESS_POINTS', array([2.3207603], dtype=float32))\n",
            "('IN_VEHICLE', array([-1.6584494], dtype=float32))\n",
            "('ON_BICYCLE', array([-0.40118644], dtype=float32))\n",
            "('ON_FOOT', array([-5.6376424], dtype=float32))\n",
            "('STILL', array([1.7916169], dtype=float32))\n",
            "('UNKOWN', array([1.2244202], dtype=float32))\n",
            "('TILTING', array([0.3653815], dtype=float32))\n",
            "('WALKING', array([-0.27648577], dtype=float32))\n",
            "('RUNNING', array([0.12622678], dtype=float32))\n",
            "('TMD3725_Proximity Proximity Sensor Wakeup', array([0.3069393], dtype=float32))\n"
          ],
          "name": "stdout"
        }
      ]
    },
    {
      "cell_type": "code",
      "metadata": {
        "colab": {
          "base_uri": "https://localhost:8080/",
          "height": 312
        },
        "id": "Y6r8HizYn7ea",
        "outputId": "d55bd98c-88a5-413f-e5ce-862d4fabcf76"
      },
      "source": [
        "tf.keras.utils.plot_model(model,show_shapes=True,show_dtype=True, show_layer_names=True, expand_nested=True)"
      ],
      "execution_count": 15,
      "outputs": [
        {
          "output_type": "execute_result",
          "data": {
            "image/png": "[encoded data removed]",
            "text/plain": [
              "<IPython.core.display.Image object>"
            ]
          },
          "metadata": {
            "tags": []
          },
          "execution_count": 15
        }
      ]
    },
    {
      "cell_type": "code",
      "metadata": {
        "colab": {
          "base_uri": "https://localhost:8080/"
        },
        "id": "WyLlJv5Fasi2",
        "outputId": "a504f2aa-f4e2-4255-e63f-2d04b21d19f4"
      },
      "source": [
        "!pip install tflite_support"
      ],
      "execution_count": 19,
      "outputs": [
        {
          "output_type": "stream",
          "text": [
            "Collecting tflite_support\n",
            "\u001b[?25l  Downloading https://files.pythonhosted.org/packages/89/69/9771822b076367d484746fdafa850d2dc3c184c55cdc1e7ad5603254fdcb/tflite_support-0.1.0-cp37-cp37m-manylinux2010_x86_64.whl (1.1MB)\n",
            "\u001b[K     |████████████████████████████████| 1.1MB 1.9MB/s \n",
            "\u001b[?25hRequirement already satisfied: flatbuffers>=1.12 in /usr/local/lib/python3.7/dist-packages (from tflite_support) (1.12)\n",
            "Requirement already satisfied: absl-py>=0.7.0 in /usr/local/lib/python3.7/dist-packages (from tflite_support) (0.12.0)\n",
            "Requirement already satisfied: numpy>=1.16.0 in /usr/local/lib/python3.7/dist-packages (from tflite_support) (1.19.5)\n",
            "Collecting pybind11>=2.6.0\n",
            "\u001b[?25l  Downloading https://files.pythonhosted.org/packages/8d/43/7339dbabbc2793718d59703aace4166f53c29ee1c202f6ff5bf8a26c4d91/pybind11-2.6.2-py2.py3-none-any.whl (191kB)\n",
            "\u001b[K     |████████████████████████████████| 194kB 42.4MB/s \n",
            "\u001b[?25hRequirement already satisfied: six in /usr/local/lib/python3.7/dist-packages (from absl-py>=0.7.0->tflite_support) (1.15.0)\n",
            "Installing collected packages: pybind11, tflite-support\n",
            "Successfully installed pybind11-2.6.2 tflite-support-0.1.0\n"
          ],
          "name": "stdout"
        }
      ]
    },
    {
      "cell_type": "code",
      "metadata": {
        "id": "bLg4BHFqaj-a"
      },
      "source": [
        "from tflite_support import flatbuffers\n",
        "from tflite_support import metadata as _metadata\n",
        "from tflite_support import metadata_schema_py_generated as _metadata_fb"
      ],
      "execution_count": 20,
      "outputs": []
    },
    {
      "cell_type": "code",
      "metadata": {
        "id": "ilJ8LtiXa2ou"
      },
      "source": [
        "# Creates model info.\n",
        "model_meta = _metadata_fb.ModelMetadataT()\n",
        "model_meta.name = \"MobileNetV1 image classifier\"\n",
        "model_meta.description = (\"Identify the most prominent object in the \"\n",
        "                          \"image from a set of 1,001 categories such as \"\n",
        "                          \"trees, animals, food, vehicles, person etc.\")\n",
        "model_meta.version = \"v1\"\n",
        "model_meta.author = \"TensorFlow\"\n",
        "model_meta.license = (\"Apache License. Version 2.0 \"\n",
        "                      \"http://www.apache.org/licenses/LICENSE-2.0.\")\n"
      ],
      "execution_count": 22,
      "outputs": []
    },
    {
      "cell_type": "code",
      "metadata": {
        "id": "pBOmhDWaa8gH"
      },
      "source": [
        "# Creates input info.\n",
        "input_meta = _metadata_fb.TensorMetadataT()\n",
        "\n",
        "# Creates output info.\n",
        "output_meta = _metadata_fb.TensorMetadataT()\n"
      ],
      "execution_count": 23,
      "outputs": []
    },
    {
      "cell_type": "code",
      "metadata": {
        "colab": {
          "base_uri": "https://localhost:8080/",
          "height": 137
        },
        "id": "-_beB3FIa_I1",
        "outputId": "bf3a0fa1-0f87-43df-cab6-1ee86687d01b"
      },
      "source": [
        "input_meta.name = \"feature_vector\"\n",
        "input_meta.description = (\n",
        "    \"Feature vector to be classified. The expected shape is {0} x {1}.\".format(1, 17))\n",
        "input_meta.content = _metadata_fb.ContentT()\n",
        "input_meta.content.contentProperties = _metadata_fb.FeaturePropertiesT()\n",
        "input_meta.content.contentProperties.shape = (1,17) \n",
        "input_meta.content.contentPropertiesType = (\n",
        "    _metadata_fb.ContentProperties.FeatureProperties)\n",
        "input_normalization = _metadata_fb.ProcessUnitT\n",
        "input_normalization.optionsType = (\n",
        "    _metadata_fb.ProcessUnitOptions.NormalizationOptions)\n",
        "input_normalization.options = _metadata_fb.NormalizationOptionsT()\n",
        "input_normalization.\n",
        "input_normalization.options.mean = [127.5]\n",
        "input_normalization.options.std = [127.5]\n",
        "input_meta.processUnits = [input_normalization]\n",
        "input_stats = _metadata_fb.StatsT()\n",
        "input_stats.max = [255]\n",
        "input_stats.min = [0]\n",
        "input_meta.stats = input_stats"
      ],
      "execution_count": 24,
      "outputs": [
        {
          "output_type": "error",
          "ename": "SyntaxError",
          "evalue": "ignored",
          "traceback": [
            "\u001b[0;36m  File \u001b[0;32m\"<ipython-input-24-2f8f1435f11d>\"\u001b[0;36m, line \u001b[0;32m6\u001b[0m\n\u001b[0;31m    input_meta.content.contentProperties. =\u001b[0m\n\u001b[0m                                          ^\u001b[0m\n\u001b[0;31mSyntaxError\u001b[0m\u001b[0;31m:\u001b[0m invalid syntax\n"
          ]
        }
      ]
    },
    {
      "cell_type": "code",
      "metadata": {
        "colab": {
          "base_uri": "https://localhost:8080/"
        },
        "id": "X7ZinaLng8JB",
        "outputId": "dd894040-2d6c-45e1-f021-4ba4b90c6a90"
      },
      "source": [
        "tf.saved_model.save(model, \"saved_model_keras_dir\")\n",
        "\"\"\"\n",
        "converter.target_ops = [tf.lite.OpsSet.TFLITE_BUILTINS, tf.lite.OpsSet.SELECT_TF_OPS]\n",
        "converter.allow_custom_ops=True\n",
        "converter.experimental_new_converter =True\n",
        "\"\"\"\n",
        "converter = tf.lite.TFLiteConverter.from_keras_model(model)\n",
        "tflite_model = converter.convert()\n",
        "\n",
        "# Save the model.\n",
        "with open('model.tflite', 'wb') as f:\n",
        "  f.write(tflite_model)\n"
      ],
      "execution_count": 17,
      "outputs": [
        {
          "output_type": "stream",
          "text": [
            "INFO:tensorflow:Assets written to: saved_model_keras_dir/assets\n",
            "INFO:tensorflow:Assets written to: /tmp/tmpxlwpf3t_/assets\n"
          ],
          "name": "stdout"
        }
      ]
    },
    {
      "cell_type": "code",
      "metadata": {
        "id": "bZOONcuKd6mL"
      },
      "source": [
        "shap.summary_plot(shap_values[0], df_train)"
      ],
      "execution_count": null,
      "outputs": []
    }
  ]
}